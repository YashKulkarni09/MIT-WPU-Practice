{
  "nbformat": 4,
  "nbformat_minor": 0,
  "metadata": {
    "colab": {
      "provenance": []
    },
    "kernelspec": {
      "name": "python3",
      "display_name": "Python 3"
    },
    "language_info": {
      "name": "python"
    }
  },
  "cells": [
    {
      "cell_type": "markdown",
      "source": [
        "**Numpy Basics**"
      ],
      "metadata": {
        "id": "ji5d4-BQ-wrA"
      }
    },
    {
      "cell_type": "markdown",
      "source": [
        "1. Write a Numpy program to get the Numpy version and show the Numpy\n",
        "build configuration."
      ],
      "metadata": {
        "id": "BjtPwM9K-_08"
      }
    },
    {
      "cell_type": "code",
      "source": [
        "import numpy as np\n",
        "\n",
        "numpy_version = np.__version__\n",
        "print(f\"NumPy Version: {numpy_version}\")\n",
        "\n",
        "numpy_build_config = np.show_config()\n",
        "print(\"\\nNumPy Build Configuration:\")\n",
        "print(numpy_build_config)"
      ],
      "metadata": {
        "id": "6BKz4G4k_C1t",
        "colab": {
          "base_uri": "https://localhost:8080/"
        },
        "outputId": "acf1c495-61a2-44c3-915c-66fafe271180"
      },
      "execution_count": null,
      "outputs": [
        {
          "output_type": "stream",
          "name": "stdout",
          "text": [
            "NumPy Version: 1.23.5\n",
            "openblas64__info:\n",
            "    libraries = ['openblas64_', 'openblas64_']\n",
            "    library_dirs = ['/usr/local/lib']\n",
            "    language = c\n",
            "    define_macros = [('HAVE_CBLAS', None), ('BLAS_SYMBOL_SUFFIX', '64_'), ('HAVE_BLAS_ILP64', None)]\n",
            "    runtime_library_dirs = ['/usr/local/lib']\n",
            "blas_ilp64_opt_info:\n",
            "    libraries = ['openblas64_', 'openblas64_']\n",
            "    library_dirs = ['/usr/local/lib']\n",
            "    language = c\n",
            "    define_macros = [('HAVE_CBLAS', None), ('BLAS_SYMBOL_SUFFIX', '64_'), ('HAVE_BLAS_ILP64', None)]\n",
            "    runtime_library_dirs = ['/usr/local/lib']\n",
            "openblas64__lapack_info:\n",
            "    libraries = ['openblas64_', 'openblas64_']\n",
            "    library_dirs = ['/usr/local/lib']\n",
            "    language = c\n",
            "    define_macros = [('HAVE_CBLAS', None), ('BLAS_SYMBOL_SUFFIX', '64_'), ('HAVE_BLAS_ILP64', None), ('HAVE_LAPACKE', None)]\n",
            "    runtime_library_dirs = ['/usr/local/lib']\n",
            "lapack_ilp64_opt_info:\n",
            "    libraries = ['openblas64_', 'openblas64_']\n",
            "    library_dirs = ['/usr/local/lib']\n",
            "    language = c\n",
            "    define_macros = [('HAVE_CBLAS', None), ('BLAS_SYMBOL_SUFFIX', '64_'), ('HAVE_BLAS_ILP64', None), ('HAVE_LAPACKE', None)]\n",
            "    runtime_library_dirs = ['/usr/local/lib']\n",
            "Supported SIMD extensions in this NumPy install:\n",
            "    baseline = SSE,SSE2,SSE3\n",
            "    found = SSSE3,SSE41,POPCNT,SSE42,AVX,F16C,FMA3,AVX2\n",
            "    not found = AVX512F,AVX512CD,AVX512_KNL,AVX512_KNM,AVX512_SKX,AVX512_CLX,AVX512_CNL,AVX512_ICL\n",
            "\n",
            "NumPy Build Configuration:\n",
            "None\n"
          ]
        }
      ]
    },
    {
      "cell_type": "markdown",
      "source": [
        "2. Write a NumPy program to get help with the add function.\n"
      ],
      "metadata": {
        "id": "AofZPva1_DJL"
      }
    },
    {
      "cell_type": "code",
      "source": [
        "import numpy as np\n",
        "help_add = np.info(np.add)\n",
        "print(\"Help for the add function:\")\n",
        "print(help_add)"
      ],
      "metadata": {
        "id": "l42yHeGb_FpT",
        "colab": {
          "base_uri": "https://localhost:8080/"
        },
        "outputId": "b310ea0c-7e0b-45dc-d270-d671b53c2148"
      },
      "execution_count": null,
      "outputs": [
        {
          "output_type": "stream",
          "name": "stdout",
          "text": [
            "add(x1, x2, /, out=None, *, where=True, casting='same_kind', order='K', dtype=None, subok=True[, signature, extobj])\n",
            "\n",
            "Add arguments element-wise.\n",
            "\n",
            "Parameters\n",
            "----------\n",
            "x1, x2 : array_like\n",
            "    The arrays to be added.\n",
            "    If ``x1.shape != x2.shape``, they must be broadcastable to a common\n",
            "    shape (which becomes the shape of the output).\n",
            "out : ndarray, None, or tuple of ndarray and None, optional\n",
            "    A location into which the result is stored. If provided, it must have\n",
            "    a shape that the inputs broadcast to. If not provided or None,\n",
            "    a freshly-allocated array is returned. A tuple (possible only as a\n",
            "    keyword argument) must have length equal to the number of outputs.\n",
            "where : array_like, optional\n",
            "    This condition is broadcast over the input. At locations where the\n",
            "    condition is True, the `out` array will be set to the ufunc result.\n",
            "    Elsewhere, the `out` array will retain its original value.\n",
            "    Note that if an uninitialized `out` array is created via the default\n",
            "    ``out=None``, locations within it where the condition is False will\n",
            "    remain uninitialized.\n",
            "**kwargs\n",
            "    For other keyword-only arguments, see the\n",
            "    :ref:`ufunc docs <ufuncs.kwargs>`.\n",
            "\n",
            "Returns\n",
            "-------\n",
            "add : ndarray or scalar\n",
            "    The sum of `x1` and `x2`, element-wise.\n",
            "    This is a scalar if both `x1` and `x2` are scalars.\n",
            "\n",
            "Notes\n",
            "-----\n",
            "Equivalent to `x1` + `x2` in terms of array broadcasting.\n",
            "\n",
            "Examples\n",
            "--------\n",
            ">>> np.add(1.0, 4.0)\n",
            "5.0\n",
            ">>> x1 = np.arange(9.0).reshape((3, 3))\n",
            ">>> x2 = np.arange(3.0)\n",
            ">>> np.add(x1, x2)\n",
            "array([[  0.,   2.,   4.],\n",
            "       [  3.,   5.,   7.],\n",
            "       [  6.,   8.,  10.]])\n",
            "\n",
            "The ``+`` operator can be used as a shorthand for ``np.add`` on ndarrays.\n",
            "\n",
            ">>> x1 = np.arange(9.0).reshape((3, 3))\n",
            ">>> x2 = np.arange(3.0)\n",
            ">>> x1 + x2\n",
            "array([[ 0.,  2.,  4.],\n",
            "       [ 3.,  5.,  7.],\n",
            "       [ 6.,  8., 10.]])\n",
            "Help for the add function:\n",
            "None\n"
          ]
        }
      ]
    },
    {
      "cell_type": "markdown",
      "source": [
        "3. Write a NumPy program to test whether none of the elements of a given\n",
        "array are zero."
      ],
      "metadata": {
        "id": "wEiAyfoI_F8b"
      }
    },
    {
      "cell_type": "code",
      "source": [
        "import numpy as np\n",
        "my_array = np.array([1, 2, 3, 4, 5])\n",
        "result = np.all(my_array != 0)\n",
        "if result:\n",
        "    print(\"None of the elements are zero.\")\n",
        "else:\n",
        "    print(\"There is at least one zero element.\")"
      ],
      "metadata": {
        "id": "yyZKeL8I_Jub",
        "colab": {
          "base_uri": "https://localhost:8080/"
        },
        "outputId": "a2bdedab-f466-4af5-db00-a2ce04d2ca81"
      },
      "execution_count": null,
      "outputs": [
        {
          "output_type": "stream",
          "name": "stdout",
          "text": [
            "None of the elements are zero.\n"
          ]
        }
      ]
    },
    {
      "cell_type": "markdown",
      "source": [
        "4. Write a NumPy program to test if any of the elements of a given array are\n",
        "non-zero."
      ],
      "metadata": {
        "id": "9ZuogQM__KCK"
      }
    },
    {
      "cell_type": "code",
      "source": [
        "import numpy as np\n",
        "my_array = np.array([0, 0, 3, 4, 0])\n",
        "result = np.any(my_array != 0)\n",
        "if result:\n",
        "    print(\"At least one element is non-zero.\")\n",
        "else:\n",
        "    print(\"All elements are zero.\")"
      ],
      "metadata": {
        "id": "FTo3szF6_RDv",
        "colab": {
          "base_uri": "https://localhost:8080/"
        },
        "outputId": "06af2edd-92ae-4623-fd2f-9ad04cc7b3ed"
      },
      "execution_count": null,
      "outputs": [
        {
          "output_type": "stream",
          "name": "stdout",
          "text": [
            "At least one element is non-zero.\n"
          ]
        }
      ]
    },
    {
      "cell_type": "markdown",
      "source": [
        "5. Write a NumPy program to test a given array element-wise for finiteness\n",
        "(not infinity or not a number)."
      ],
      "metadata": {
        "id": "3LB4htMI_RY9"
      }
    },
    {
      "cell_type": "code",
      "source": [
        "import numpy as np\n",
        "my_array = np.array([1.0, np.inf, -np.inf, np.nan, 5.0])\n",
        "result = np.isfinite(my_array)\n",
        "print(\"Array Element-wise Finiteness Test:\")\n",
        "print(result)"
      ],
      "metadata": {
        "id": "vUr5i45T_UT-",
        "colab": {
          "base_uri": "https://localhost:8080/"
        },
        "outputId": "938e3b94-f69a-40f7-9598-bf87fb0c3f04"
      },
      "execution_count": null,
      "outputs": [
        {
          "output_type": "stream",
          "name": "stdout",
          "text": [
            "Array Element-wise Finiteness Test:\n",
            "[ True False False False  True]\n"
          ]
        }
      ]
    },
    {
      "cell_type": "markdown",
      "source": [
        "6. Write a NumPy program to test elements-wise for positive or negative\n",
        "infinity."
      ],
      "metadata": {
        "id": "6T68dPy2_Uo4"
      }
    },
    {
      "cell_type": "code",
      "source": [
        "import numpy as np\n",
        "my_array = np.array([1.0, np.inf, -np.inf, np.nan, 5.0])\n",
        "result = np.isinf(my_array)\n",
        "print(\"Array Element-wise Infinity Test:\")\n",
        "print(result)"
      ],
      "metadata": {
        "id": "eZgrt8Pk_36x",
        "colab": {
          "base_uri": "https://localhost:8080/"
        },
        "outputId": "80249085-39b0-4aac-e39f-bc295f216fbb"
      },
      "execution_count": null,
      "outputs": [
        {
          "output_type": "stream",
          "name": "stdout",
          "text": [
            "Array Element-wise Infinity Test:\n",
            "[False  True  True False False]\n"
          ]
        }
      ]
    },
    {
      "cell_type": "markdown",
      "source": [
        "7. Write a NumPy program to test element-wise for NaN of a given array."
      ],
      "metadata": {
        "id": "ec2zQ88w_4Qf"
      }
    },
    {
      "cell_type": "code",
      "source": [
        "import numpy as np\n",
        "my_array = np.array([1.0, np.inf, -np.inf, np.nan, 5.0])\n",
        "result = np.isnan(my_array)\n",
        "print(\"Array Element-wise NaN Test:\")\n",
        "print(result)"
      ],
      "metadata": {
        "id": "8SVNCtr7_7Rj",
        "colab": {
          "base_uri": "https://localhost:8080/"
        },
        "outputId": "46a21081-0bf0-460f-f8e1-55538f0da791"
      },
      "execution_count": null,
      "outputs": [
        {
          "output_type": "stream",
          "name": "stdout",
          "text": [
            "Array Element-wise NaN Test:\n",
            "[False False False  True False]\n"
          ]
        }
      ]
    },
    {
      "cell_type": "markdown",
      "source": [
        "8. Write a NumPy program to test element-wise for complex numbers, real\n",
        "numbers in a given array. Also test if a given number is of a scalar type or\n",
        "not."
      ],
      "metadata": {
        "id": "01djrLO9_7kF"
      }
    },
    {
      "cell_type": "code",
      "source": [
        "import numpy as np\n",
        "\n",
        "my_array = np.array([1, 2.5, 3 + 4j, True, \"hello\"])\n",
        "is_complex = np.iscomplexobj(my_array)\n",
        "is_real = np.isrealobj(my_array)\n",
        "number_to_check = 42\n",
        "is_scalar = np.isscalar(number_to_check)\n",
        "print(\"Array Element-wise Complex Test:\")\n",
        "print(is_complex)\n",
        "\n",
        "print(\"\\nArray Element-wise Real Test:\")\n",
        "print(is_real)\n",
        "\n",
        "print(\"\\nIs\", number_to_check, \"a scalar?\")\n",
        "print(is_scalar)"
      ],
      "metadata": {
        "id": "f3eJ60zi_-I0",
        "colab": {
          "base_uri": "https://localhost:8080/"
        },
        "outputId": "3beb7794-cac8-47ff-873c-e5df745042ea"
      },
      "execution_count": null,
      "outputs": [
        {
          "output_type": "stream",
          "name": "stdout",
          "text": [
            "Array Element-wise Complex Test:\n",
            "False\n",
            "\n",
            "Array Element-wise Real Test:\n",
            "True\n",
            "\n",
            "Is 42 a scalar?\n",
            "True\n"
          ]
        }
      ]
    },
    {
      "cell_type": "markdown",
      "source": [
        "9. Write a NumPy program to test whether two arrays are element-wise equal\n",
        "within a tolerance.\n"
      ],
      "metadata": {
        "id": "u8kSTzFV_-Zf"
      }
    },
    {
      "cell_type": "code",
      "source": [
        "import numpy as np\n",
        "array1 = np.array([1.0, 2.0, 3.0])\n",
        "array2 = np.array([1.0, 2.1, 3.0])\n",
        "tolerance = 0.2\n",
        "are_equal = np.allclose(array1, array2, atol=tolerance)\n",
        "if are_equal:\n",
        "    print(\"The arrays are element-wise equal within the tolerance.\")\n",
        "else:\n",
        "    print(\"The arrays are not element-wise equal within the tolerance.\")"
      ],
      "metadata": {
        "id": "dq-yR9k2ABTN",
        "colab": {
          "base_uri": "https://localhost:8080/"
        },
        "outputId": "c41c5f05-d841-4a7d-bafc-ac0dfbda7ca3"
      },
      "execution_count": null,
      "outputs": [
        {
          "output_type": "stream",
          "name": "stdout",
          "text": [
            "The arrays are element-wise equal within the tolerance.\n"
          ]
        }
      ]
    },
    {
      "cell_type": "markdown",
      "source": [
        "10. Write a NumPy program to create an element-wise comparison (greater,\n",
        "greater_equal, less and less_equal) of two given arrays.\n"
      ],
      "metadata": {
        "id": "EblVa8M0ABuN"
      }
    },
    {
      "cell_type": "code",
      "source": [
        "import numpy as np\n",
        "\n",
        "array1 = np.array([1, 2, 3])\n",
        "array2 = np.array([2, 1, 3])\n",
        "\n",
        "greater_than_result = np.greater(array1, array2)\n",
        "greater_equal_result = np.greater_equal(array1, array2)\n",
        "\n",
        "less_than_result = np.less(array1, array2)\n",
        "less_equal_result = np.less_equal(array1, array2)\n",
        "\n",
        "print(\"Array1 > Array2:\", greater_than_result)\n",
        "print(\"Array1 >= Array2:\", greater_equal_result)\n",
        "print(\"Array1 < Array2:\", less_than_result)\n",
        "print(\"Array1 <= Array2:\", less_equal_result)"
      ],
      "metadata": {
        "id": "z8z5JO7hAFCY",
        "colab": {
          "base_uri": "https://localhost:8080/"
        },
        "outputId": "99e58840-ae11-452d-8ee4-ae03d1be8be6"
      },
      "execution_count": null,
      "outputs": [
        {
          "output_type": "stream",
          "name": "stdout",
          "text": [
            "Array1 > Array2: [False  True False]\n",
            "Array1 >= Array2: [False  True  True]\n",
            "Array1 < Array2: [ True False False]\n",
            "Array1 <= Array2: [ True False  True]\n"
          ]
        }
      ]
    },
    {
      "cell_type": "markdown",
      "source": [
        "11. Write a NumPy program to create an element-wise comparison (equal,\n",
        "equal within a tolerance) of two given arrays.\n"
      ],
      "metadata": {
        "id": "K2UfJj5rAFWK"
      }
    },
    {
      "cell_type": "code",
      "source": [
        "import numpy as np\n",
        "array1 = np.array([1.0, 2.0, 3.0])\n",
        "array2 = np.array([1.1, 2.0, 3.0])\n",
        "equal_result = np.equal(array1, array2)\n",
        "tolerance = 0.2\n",
        "equal_within_tolerance_result = np.allclose(array1, array2, atol=tolerance)\n",
        "print(\"Element-wise Equality:\", equal_result)\n",
        "print(\"Element-wise Equality Within Tolerance:\", equal_within_tolerance_result)"
      ],
      "metadata": {
        "id": "60PDYTHsAI9V",
        "colab": {
          "base_uri": "https://localhost:8080/"
        },
        "outputId": "52b9e154-9abf-4bb4-aa1c-f1f604ab3545"
      },
      "execution_count": null,
      "outputs": [
        {
          "output_type": "stream",
          "name": "stdout",
          "text": [
            "Element-wise Equality: [False  True  True]\n",
            "Element-wise Equality Within Tolerance: True\n"
          ]
        }
      ]
    },
    {
      "cell_type": "markdown",
      "source": [
        "12. Write a NumPy program to create an array with the values 1, 7, 13, 105\n",
        "and determine the size of the memory occupied by the array."
      ],
      "metadata": {
        "id": "8kvhz0qIAJRM"
      }
    },
    {
      "cell_type": "code",
      "source": [
        "import numpy as np\n",
        "my_array = np.array([1, 7, 13, 105])\n",
        "memory_size = my_array.nbytes\n",
        "print(\"Array:\", my_array)\n",
        "print(\"Memory Size:\", memory_size, \"bytes\")"
      ],
      "metadata": {
        "id": "1MBlBjkiAMgY",
        "colab": {
          "base_uri": "https://localhost:8080/"
        },
        "outputId": "a05a4295-2a76-4d1e-af59-58550acb624e"
      },
      "execution_count": null,
      "outputs": [
        {
          "output_type": "stream",
          "name": "stdout",
          "text": [
            "Array: [  1   7  13 105]\n",
            "Memory Size: 32 bytes\n"
          ]
        }
      ]
    },
    {
      "cell_type": "markdown",
      "source": [
        "13. Write a NumPy program to create an array of 10 zeros, 10 ones, and 10\n",
        "fives."
      ],
      "metadata": {
        "id": "Vbq02oV8AM2j"
      }
    },
    {
      "cell_type": "code",
      "source": [
        "import numpy as np\n",
        "zeros_array = np.zeros(10)\n",
        "ones_array = np.ones(10)\n",
        "fives_array = 5 * np.ones(10)\n",
        "print(\"Array of 10 Zeros:\", zeros_array)\n",
        "print(\"Array of 10 Ones:\", ones_array)\n",
        "print(\"Array of 10 Fives:\", fives_array)"
      ],
      "metadata": {
        "id": "15MZuCfjAQJA",
        "colab": {
          "base_uri": "https://localhost:8080/"
        },
        "outputId": "47382e8b-9fd6-45e6-9af4-87be4acc0c88"
      },
      "execution_count": null,
      "outputs": [
        {
          "output_type": "stream",
          "name": "stdout",
          "text": [
            "Array of 10 Zeros: [0. 0. 0. 0. 0. 0. 0. 0. 0. 0.]\n",
            "Array of 10 Ones: [1. 1. 1. 1. 1. 1. 1. 1. 1. 1.]\n",
            "Array of 10 Fives: [5. 5. 5. 5. 5. 5. 5. 5. 5. 5.]\n"
          ]
        }
      ]
    },
    {
      "cell_type": "markdown",
      "source": [
        "14. Write a NumPy program to create an array of integers from 30 to 70."
      ],
      "metadata": {
        "id": "yOfrYNaLAQeT"
      }
    },
    {
      "cell_type": "code",
      "source": [
        "import numpy as np\n",
        "result_array = np.arange(30, 71)\n",
        "print(\"Array of integers from 30 to 70:\", result_array)"
      ],
      "metadata": {
        "id": "TuhXCXDFATdk",
        "colab": {
          "base_uri": "https://localhost:8080/"
        },
        "outputId": "d001ef85-e33e-473b-ecc4-ecd32521dcd7"
      },
      "execution_count": null,
      "outputs": [
        {
          "output_type": "stream",
          "name": "stdout",
          "text": [
            "Array of integers from 30 to 70: [30 31 32 33 34 35 36 37 38 39 40 41 42 43 44 45 46 47 48 49 50 51 52 53\n",
            " 54 55 56 57 58 59 60 61 62 63 64 65 66 67 68 69 70]\n"
          ]
        }
      ]
    },
    {
      "cell_type": "markdown",
      "source": [
        "15. Write a NumPy program to create an array of all even integers from 30 to\n",
        "70."
      ],
      "metadata": {
        "id": "wzRXvqoGATxn"
      }
    },
    {
      "cell_type": "code",
      "source": [
        "import numpy as np\n",
        "even_array = np.arange(30, 71, 2)\n",
        "print(\"Array of even integers from 30 to 70:\", even_array)"
      ],
      "metadata": {
        "id": "6UyHaH7eAXQa",
        "colab": {
          "base_uri": "https://localhost:8080/"
        },
        "outputId": "0f914a28-fc91-4212-c06b-4446ed87abab"
      },
      "execution_count": null,
      "outputs": [
        {
          "output_type": "stream",
          "name": "stdout",
          "text": [
            "Array of even integers from 30 to 70: [30 32 34 36 38 40 42 44 46 48 50 52 54 56 58 60 62 64 66 68 70]\n"
          ]
        }
      ]
    },
    {
      "cell_type": "markdown",
      "source": [
        "16. Write a NumPy program to create a 3x3 identity matrix."
      ],
      "metadata": {
        "id": "qH5_LRn8AXu-"
      }
    },
    {
      "cell_type": "code",
      "source": [
        "import numpy as np\n",
        "identity_matrix = np.eye(3)\n",
        "print(\"3x3 Identity Matrix:\")\n",
        "print(identity_matrix)"
      ],
      "metadata": {
        "id": "wiHT4QKcAcTD",
        "colab": {
          "base_uri": "https://localhost:8080/"
        },
        "outputId": "2def6c4c-a961-41fe-d394-9846521a0b02"
      },
      "execution_count": null,
      "outputs": [
        {
          "output_type": "stream",
          "name": "stdout",
          "text": [
            "3x3 Identity Matrix:\n",
            "[[1. 0. 0.]\n",
            " [0. 1. 0.]\n",
            " [0. 0. 1.]]\n"
          ]
        }
      ]
    },
    {
      "cell_type": "markdown",
      "source": [
        "17. Write a NumPy program to generate a random number between 0 and 1.\n"
      ],
      "metadata": {
        "id": "u4zQHHhPAckT"
      }
    },
    {
      "cell_type": "code",
      "source": [
        "import numpy as np\n",
        "random_number = np.random.rand()\n",
        "print(\"Random Number between 0 and 1:\", random_number)"
      ],
      "metadata": {
        "id": "h48plmjxAiK0",
        "colab": {
          "base_uri": "https://localhost:8080/"
        },
        "outputId": "5ec6b8a1-6786-483f-d120-7ba746af517e"
      },
      "execution_count": null,
      "outputs": [
        {
          "output_type": "stream",
          "name": "stdout",
          "text": [
            "Random Number between 0 and 1: 0.6492632771895974\n"
          ]
        }
      ]
    },
    {
      "cell_type": "markdown",
      "source": [
        "18. Write a NumPy program to generate an array of 15 random numbers from\n",
        "a standard normal distribution."
      ],
      "metadata": {
        "id": "Zvx20PvlAicv"
      }
    },
    {
      "cell_type": "code",
      "source": [
        "import numpy as np\n",
        "random_numbers = np.random.randn(15)\n",
        "print(\"Array of 15 random numbers from a standard normal distribution:\")\n",
        "print(random_numbers)"
      ],
      "metadata": {
        "id": "BqAn4zi3AlEo",
        "colab": {
          "base_uri": "https://localhost:8080/"
        },
        "outputId": "95f8a660-4f96-44a4-97a1-0a1e5ff254e4"
      },
      "execution_count": null,
      "outputs": [
        {
          "output_type": "stream",
          "name": "stdout",
          "text": [
            "Array of 15 random numbers from a standard normal distribution:\n",
            "[-0.70275479  0.01785472 -0.230647   -1.15270898 -0.6115683  -0.88461939\n",
            "  1.33416747 -0.81236068  0.81740714 -1.26510747  0.84459954  0.73321586\n",
            "  1.04324021  1.47999725  0.33573957]\n"
          ]
        }
      ]
    },
    {
      "cell_type": "markdown",
      "source": [
        "19. Write a NumPy program to create a vector with values ranging from 15 to\n",
        "55 and print all values except the first and last."
      ],
      "metadata": {
        "id": "LBvrBRb7AlVk"
      }
    },
    {
      "cell_type": "code",
      "source": [
        "import numpy as np\n",
        "my_vector = np.arange(15, 56)\n",
        "print(\"Original Vector:\")\n",
        "print(my_vector)\n",
        "print(\"\\nAll values except the first and last:\")\n",
        "print(my_vector[1:-1])"
      ],
      "metadata": {
        "id": "PNJT6xcZAn9G",
        "colab": {
          "base_uri": "https://localhost:8080/"
        },
        "outputId": "147e5525-5200-438c-83e3-a0d5ac8af474"
      },
      "execution_count": null,
      "outputs": [
        {
          "output_type": "stream",
          "name": "stdout",
          "text": [
            "Original Vector:\n",
            "[15 16 17 18 19 20 21 22 23 24 25 26 27 28 29 30 31 32 33 34 35 36 37 38\n",
            " 39 40 41 42 43 44 45 46 47 48 49 50 51 52 53 54 55]\n",
            "\n",
            "All values except the first and last:\n",
            "[16 17 18 19 20 21 22 23 24 25 26 27 28 29 30 31 32 33 34 35 36 37 38 39\n",
            " 40 41 42 43 44 45 46 47 48 49 50 51 52 53 54]\n"
          ]
        }
      ]
    },
    {
      "cell_type": "markdown",
      "source": [
        "20. Write a NumPy program to create a 3X4 array and iterate over it.\n"
      ],
      "metadata": {
        "id": "13-Nr9hGAoQ5"
      }
    },
    {
      "cell_type": "code",
      "source": [
        "import numpy as np\n",
        "my_array = np.array([[1, 2, 3, 4],\n",
        "                     [5, 6, 7, 8],\n",
        "                     [9, 10, 11, 12]])\n",
        "print(\"Iterating over the 3x4 array:\")\n",
        "for row in my_array:\n",
        "    for element in row:\n",
        "        print(element, end=\" \")\n",
        "    print()"
      ],
      "metadata": {
        "id": "oYpf9m-oArQZ",
        "colab": {
          "base_uri": "https://localhost:8080/"
        },
        "outputId": "fd8eb694-db0b-4de0-b7a8-2b954b104838"
      },
      "execution_count": null,
      "outputs": [
        {
          "output_type": "stream",
          "name": "stdout",
          "text": [
            "Iterating over the 3x4 array:\n",
            "1 2 3 4 \n",
            "5 6 7 8 \n",
            "9 10 11 12 \n"
          ]
        }
      ]
    },
    {
      "cell_type": "markdown",
      "source": [
        "21. Write a NumPy program to create a vector of length 10 with values evenly\n",
        "distributed between 5 and 50.\n"
      ],
      "metadata": {
        "id": "krG_O-EEArlS"
      }
    },
    {
      "cell_type": "code",
      "source": [
        "import numpy as np\n",
        "my_vector = np.linspace(5, 50, 10)\n",
        "print(\"Vector with values evenly distributed between 5 and 50:\")\n",
        "print(my_vector)"
      ],
      "metadata": {
        "id": "T0C1BgUBAvFo",
        "colab": {
          "base_uri": "https://localhost:8080/"
        },
        "outputId": "c7a4597c-f9e4-4ea7-ccbf-4c172df1d7aa"
      },
      "execution_count": null,
      "outputs": [
        {
          "output_type": "stream",
          "name": "stdout",
          "text": [
            "Vector with values evenly distributed between 5 and 50:\n",
            "[ 5. 10. 15. 20. 25. 30. 35. 40. 45. 50.]\n"
          ]
        }
      ]
    },
    {
      "cell_type": "markdown",
      "source": [
        "22. Write a NumPy program to create a vector with values from 0 to 20 and\n",
        "change the sign of the numbers in the range from 9 to 15."
      ],
      "metadata": {
        "id": "-wErBcZAAvZj"
      }
    },
    {
      "cell_type": "code",
      "source": [
        "import numpy as np\n",
        "my_vector = np.arange(0, 21)\n",
        "my_vector[9:16] *= -1\n",
        "print(\"Vector with values from 0 to 20 and sign changed from 9 to 15:\")\n",
        "print(my_vector)"
      ],
      "metadata": {
        "id": "PyLL5I0gA0f7",
        "colab": {
          "base_uri": "https://localhost:8080/"
        },
        "outputId": "6412915c-68df-4906-9560-f1b5127c8fff"
      },
      "execution_count": null,
      "outputs": [
        {
          "output_type": "stream",
          "name": "stdout",
          "text": [
            "Vector with values from 0 to 20 and sign changed from 9 to 15:\n",
            "[  0   1   2   3   4   5   6   7   8  -9 -10 -11 -12 -13 -14 -15  16  17\n",
            "  18  19  20]\n"
          ]
        }
      ]
    },
    {
      "cell_type": "markdown",
      "source": [
        "23. Write a NumPy program to create a vector of length 5 filled with arbitrary\n",
        "integers from 0 to 10."
      ],
      "metadata": {
        "id": "AE_bhPmnA01S"
      }
    },
    {
      "cell_type": "code",
      "source": [
        "import numpy as np\n",
        "random_vector = np.random.randint(0, 11, size=5)\n",
        "print(\"Vector of length 5 with arbitrary integers from 0 to 10:\")\n",
        "print(random_vector)"
      ],
      "metadata": {
        "id": "ov5fLVdtA3P9",
        "colab": {
          "base_uri": "https://localhost:8080/"
        },
        "outputId": "5f5b6630-6a86-4be0-ee1a-a4f59c1cc79f"
      },
      "execution_count": null,
      "outputs": [
        {
          "output_type": "stream",
          "name": "stdout",
          "text": [
            "Vector of length 5 with arbitrary integers from 0 to 10:\n",
            "[ 4  7  5 10  1]\n"
          ]
        }
      ]
    },
    {
      "cell_type": "markdown",
      "source": [
        "24. Write a NumPy program to multiply the values of two given vectors.\n"
      ],
      "metadata": {
        "id": "_wQPTPmyA3jK"
      }
    },
    {
      "cell_type": "code",
      "source": [
        "import numpy as np\n",
        "vector1 = np.array([1, 2, 3])\n",
        "vector2 = np.array([4, 5, 6])\n",
        "result_vector = vector1 * vector2\n",
        "print(\"Result Vector (element-wise multiplication):\")\n",
        "print(result_vector)"
      ],
      "metadata": {
        "id": "149IB7RqA6l6",
        "colab": {
          "base_uri": "https://localhost:8080/"
        },
        "outputId": "a9dc25c2-9c69-4b40-bf7f-603532659363"
      },
      "execution_count": null,
      "outputs": [
        {
          "output_type": "stream",
          "name": "stdout",
          "text": [
            "Result Vector (element-wise multiplication):\n",
            "[ 4 10 18]\n"
          ]
        }
      ]
    },
    {
      "cell_type": "markdown",
      "source": [
        "25. Write a NumPy program to create a 3x4 matrix filled with values from 10 to 21."
      ],
      "metadata": {
        "id": "et-9kxLhA63X"
      }
    },
    {
      "cell_type": "code",
      "source": [
        "import numpy as np\n",
        "values = np.arange(10, 22)\n",
        "matrix = values.reshape(3, 4)\n",
        "print(\"3x4 Matrix filled with values from 10 to 21:\")\n",
        "print(matrix)"
      ],
      "metadata": {
        "id": "HbDJ5tkpA_WQ",
        "colab": {
          "base_uri": "https://localhost:8080/"
        },
        "outputId": "db757471-135e-4220-e26b-6e3c71f382db"
      },
      "execution_count": null,
      "outputs": [
        {
          "output_type": "stream",
          "name": "stdout",
          "text": [
            "3x4 Matrix filled with values from 10 to 21:\n",
            "[[10 11 12 13]\n",
            " [14 15 16 17]\n",
            " [18 19 20 21]]\n"
          ]
        }
      ]
    }
  ]
}