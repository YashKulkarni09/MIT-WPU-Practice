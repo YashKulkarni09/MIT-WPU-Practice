{
  "nbformat": 4,
  "nbformat_minor": 0,
  "metadata": {
    "colab": {
      "provenance": []
    },
    "kernelspec": {
      "name": "python3",
      "display_name": "Python 3"
    },
    "language_info": {
      "name": "python"
    }
  },
  "cells": [
    {
      "cell_type": "markdown",
      "source": [
        "**Pandas Series Questions**"
      ],
      "metadata": {
        "id": "Fzi7IvJAylvo"
      }
    },
    {
      "cell_type": "markdown",
      "source": [
        "1. Write a Pandas program to create and display a one-dimensional array-like\n",
        "object containing an array of data using Pandas module.\n"
      ],
      "metadata": {
        "id": "BH3Kl2TG0Yyb"
      }
    },
    {
      "cell_type": "code",
      "source": [
        "import pandas as pd\n",
        "data = [1,2,3]\n",
        "one_dimensional_array = pd.Series(data)\n",
        "print(one_dimensional_array)"
      ],
      "metadata": {
        "id": "KbBhL_qN9UBV",
        "colab": {
          "base_uri": "https://localhost:8080/"
        },
        "outputId": "6df844e7-200f-4fda-988e-fdda91a06c04"
      },
      "execution_count": null,
      "outputs": [
        {
          "output_type": "stream",
          "name": "stdout",
          "text": [
            "0    1\n",
            "1    2\n",
            "2    3\n",
            "dtype: int64\n"
          ]
        }
      ]
    },
    {
      "cell_type": "markdown",
      "source": [
        "2. Write a Pandas program to convert a Panda module Series to Python list\n",
        "and it's type."
      ],
      "metadata": {
        "id": "LUER6azSy6WT"
      }
    },
    {
      "cell_type": "code",
      "source": [
        "import pandas as pd\n",
        "data = {'a':1, 'b':2, 'c':3}\n",
        "pandas_series = pd.Series(data)\n",
        "python_list = pandas_series.tolist()\n",
        "list_type = type(python_list)\n",
        "print(\"Pandas Series:\", pandas_series)\n",
        "print(\"\\nPython List\",python_list)\n",
        "print(list_type)"
      ],
      "metadata": {
        "id": "In-TQcwO9TL_",
        "colab": {
          "base_uri": "https://localhost:8080/"
        },
        "outputId": "ce3560e6-4b40-47c5-d5dc-236224da223e"
      },
      "execution_count": null,
      "outputs": [
        {
          "output_type": "stream",
          "name": "stdout",
          "text": [
            "Pandas Series: a    1\n",
            "b    2\n",
            "c    3\n",
            "dtype: int64\n",
            "\n",
            "Python List [1, 2, 3]\n",
            "<class 'list'>\n"
          ]
        }
      ]
    },
    {
      "cell_type": "markdown",
      "source": [
        "3. Write a Pandas program to add, subtract, multiple and divide two Pandas\n",
        "Series.\n",
        "Sample Series: [2, 4, 6, 8, 10], [1, 3, 5, 7, 9]\n"
      ],
      "metadata": {
        "id": "bxaLTEpcy925"
      }
    },
    {
      "cell_type": "code",
      "source": [
        "import pandas as pd\n",
        "a = pd.Series([2,4,6,8,10])\n",
        "b = pd.Series([1,3,5,7,9])\n",
        "c = a+b\n",
        "d = a-b\n",
        "e = a*b\n",
        "f = a/b\n",
        "print(c)\n",
        "print(d)\n",
        "print(e)\n",
        "print(f)"
      ],
      "metadata": {
        "id": "wj2gS7fq9SWr",
        "colab": {
          "base_uri": "https://localhost:8080/"
        },
        "outputId": "a38f1dd7-9fb9-4a63-b00c-44a80534622c"
      },
      "execution_count": null,
      "outputs": [
        {
          "output_type": "stream",
          "name": "stdout",
          "text": [
            "0     3\n",
            "1     7\n",
            "2    11\n",
            "3    15\n",
            "4    19\n",
            "dtype: int64\n",
            "0    1\n",
            "1    1\n",
            "2    1\n",
            "3    1\n",
            "4    1\n",
            "dtype: int64\n",
            "0     2\n",
            "1    12\n",
            "2    30\n",
            "3    56\n",
            "4    90\n",
            "dtype: int64\n",
            "0    2.000000\n",
            "1    1.333333\n",
            "2    1.200000\n",
            "3    1.142857\n",
            "4    1.111111\n",
            "dtype: float64\n"
          ]
        }
      ]
    },
    {
      "cell_type": "markdown",
      "source": [
        "4. Write a Pandas program to compare the elements of the two Pandas\n",
        "Series.\n",
        "Sample Series: [2, 4, 6, 8, 10], [1, 3, 5, 7, 10]"
      ],
      "metadata": {
        "id": "rPJrfac3zB3h"
      }
    },
    {
      "cell_type": "code",
      "source": [
        "import pandas as pd\n",
        "a = pd.Series([2,4,6,8,10])\n",
        "b = pd.Series([1,3,5,7,10])\n",
        "comparision_result = a==b\n",
        "print(comparision_result)"
      ],
      "metadata": {
        "id": "CL7xxDLI9RPv",
        "colab": {
          "base_uri": "https://localhost:8080/"
        },
        "outputId": "b1c6d520-2bd3-4c4a-e8df-0ef30ae86885"
      },
      "execution_count": null,
      "outputs": [
        {
          "output_type": "stream",
          "name": "stdout",
          "text": [
            "0    False\n",
            "1    False\n",
            "2    False\n",
            "3    False\n",
            "4     True\n",
            "dtype: bool\n"
          ]
        }
      ]
    },
    {
      "cell_type": "markdown",
      "source": [
        "5. Write a Pandas program to convert a dictionary to a Pandas series."
      ],
      "metadata": {
        "id": "A0sTszUyzH9p"
      }
    },
    {
      "cell_type": "code",
      "source": [
        "import pandas as pd\n",
        "dict = {'a':1, 'b':2, 'c':3}\n",
        "series = pd.Series(dict)\n",
        "print(dict)\n",
        "print(series)"
      ],
      "metadata": {
        "id": "zrqVTj449QQJ",
        "colab": {
          "base_uri": "https://localhost:8080/"
        },
        "outputId": "6c89b93a-67a5-4b3d-97c6-cbc248648b88"
      },
      "execution_count": null,
      "outputs": [
        {
          "output_type": "stream",
          "name": "stdout",
          "text": [
            "{'a': 1, 'b': 2, 'c': 3}\n",
            "a    1\n",
            "b    2\n",
            "c    3\n",
            "dtype: int64\n"
          ]
        }
      ]
    },
    {
      "cell_type": "markdown",
      "source": [
        "6. Write a Pandas program to convert a NumPy array to a Pandas series.\n"
      ],
      "metadata": {
        "id": "EhRZIOUbzLOW"
      }
    },
    {
      "cell_type": "code",
      "source": [
        "import numpy as np\n",
        "import pandas as pd\n",
        "num = np.array([1,2,3,4,5])\n",
        "ser = pd.Series(num)\n",
        "print(ser)"
      ],
      "metadata": {
        "id": "zSjhV_GD9PeM",
        "colab": {
          "base_uri": "https://localhost:8080/"
        },
        "outputId": "9359bdb1-d1a2-491e-ff5a-ab34bd31d01d"
      },
      "execution_count": null,
      "outputs": [
        {
          "output_type": "stream",
          "name": "stdout",
          "text": [
            "0    1\n",
            "1    2\n",
            "2    3\n",
            "3    4\n",
            "4    5\n",
            "dtype: int64\n"
          ]
        }
      ]
    },
    {
      "cell_type": "markdown",
      "source": [
        "7. Write a Pandas program to change the data type of given a column or a\n",
        "Series.\n"
      ],
      "metadata": {
        "id": "27qgonsxzN_d"
      }
    },
    {
      "cell_type": "code",
      "source": [
        "d1 = {'Age': [25,30,22]}\n",
        "df = pd.DataFrame(d1)\n",
        "df['Age'] = df['Age'].astype(float)\n",
        "print(d1)\n",
        "print(type(d1))\n",
        "print(df)\n",
        "print(type(df))"
      ],
      "metadata": {
        "id": "tyAIPXdY9OV1",
        "colab": {
          "base_uri": "https://localhost:8080/"
        },
        "outputId": "688d3603-7196-4b2b-8938-4d330d383de1"
      },
      "execution_count": null,
      "outputs": [
        {
          "output_type": "stream",
          "name": "stdout",
          "text": [
            "{'Age': [25, 30, 22]}\n",
            "<class 'dict'>\n",
            "    Age\n",
            "0  25.0\n",
            "1  30.0\n",
            "2  22.0\n",
            "<class 'pandas.core.frame.DataFrame'>\n"
          ]
        }
      ]
    },
    {
      "cell_type": "markdown",
      "source": [
        "8. Write a Pandas program to convert the first column of a DataFrame as a\n",
        "Series."
      ],
      "metadata": {
        "id": "0UwlNW5pzTL4"
      }
    },
    {
      "cell_type": "code",
      "source": [
        "import pandas as pd\n",
        "d = {'X':[78,85,96,80,86], 'Y':[84,94,89,83,86], 'Z':[86,97,96,72,83]}\n",
        "df = pd.DataFrame(d)\n",
        "print(df)\n",
        "s = df['X']\n",
        "print(s)\n",
        "print(type(s))"
      ],
      "metadata": {
        "id": "drAV83UEK2oc",
        "colab": {
          "base_uri": "https://localhost:8080/"
        },
        "outputId": "62640e37-eac1-4390-a215-02543975f711"
      },
      "execution_count": null,
      "outputs": [
        {
          "output_type": "stream",
          "name": "stdout",
          "text": [
            "    X   Y   Z\n",
            "0  78  84  86\n",
            "1  85  94  97\n",
            "2  96  89  96\n",
            "3  80  83  72\n",
            "4  86  86  83\n",
            "0    78\n",
            "1    85\n",
            "2    96\n",
            "3    80\n",
            "4    86\n",
            "Name: X, dtype: int64\n",
            "<class 'pandas.core.series.Series'>\n"
          ]
        }
      ]
    },
    {
      "cell_type": "markdown",
      "source": [
        "9. Write a Pandas program to convert a given Series to an array."
      ],
      "metadata": {
        "id": "rE-1CUNgzWwh"
      }
    },
    {
      "cell_type": "code",
      "source": [
        "data = [2,4,6,8]\n",
        "ser = pd.Series(data)\n",
        "print(ser)\n",
        "numpy_array = ser.to_numpy()\n",
        "print(numpy_array)"
      ],
      "metadata": {
        "id": "n8RN7LCICieu",
        "colab": {
          "base_uri": "https://localhost:8080/"
        },
        "outputId": "dbcbf890-6eac-4470-9448-f171fb722738"
      },
      "execution_count": null,
      "outputs": [
        {
          "output_type": "stream",
          "name": "stdout",
          "text": [
            "0    2\n",
            "1    4\n",
            "2    6\n",
            "3    8\n",
            "dtype: int64\n",
            "[2 4 6 8]\n"
          ]
        }
      ]
    },
    {
      "cell_type": "markdown",
      "source": [
        "10. Write a Pandas program to convert Series of lists to one Series."
      ],
      "metadata": {
        "id": "AcizdsshzZr_"
      }
    },
    {
      "cell_type": "code",
      "source": [
        "import pandas as pd\n",
        "s = pd.Series([['red', 'blue', 'green'], ['orange', 'yellow'], ['white']])\n",
        "print(s)\n",
        "s = s.apply(pd.Series).stack().reset_index(drop=True)\n",
        "print(s)"
      ],
      "metadata": {
        "id": "B9m4xbCr9Lpy",
        "colab": {
          "base_uri": "https://localhost:8080/"
        },
        "outputId": "fa98ddf6-24ea-4979-9bf9-dab64e3b8878"
      },
      "execution_count": null,
      "outputs": [
        {
          "output_type": "stream",
          "name": "stdout",
          "text": [
            "0    [red, blue, green]\n",
            "1      [orange, yellow]\n",
            "2               [white]\n",
            "dtype: object\n",
            "0       red\n",
            "1      blue\n",
            "2     green\n",
            "3    orange\n",
            "4    yellow\n",
            "5     white\n",
            "dtype: object\n"
          ]
        }
      ]
    },
    {
      "cell_type": "markdown",
      "source": [
        "11. Write a Pandas program to sort a given Series.\n"
      ],
      "metadata": {
        "id": "N_-vOD5kzc3Q"
      }
    },
    {
      "cell_type": "code",
      "source": [
        "d = {'a':1, 'b':5, 'c':3}\n",
        "print(d)\n",
        "d2 = pd.Series(d)\n",
        "sort = d2.sort_values()\n",
        "print(sort)"
      ],
      "metadata": {
        "id": "LMo1xFpp9Krx",
        "colab": {
          "base_uri": "https://localhost:8080/"
        },
        "outputId": "3a67ac1c-dfb9-41f7-da49-3bc0577a7777"
      },
      "execution_count": null,
      "outputs": [
        {
          "output_type": "stream",
          "name": "stdout",
          "text": [
            "{'a': 1, 'b': 5, 'c': 3}\n",
            "a    1\n",
            "c    3\n",
            "b    5\n",
            "dtype: int64\n"
          ]
        }
      ]
    },
    {
      "cell_type": "markdown",
      "source": [
        "12. Write a Pandas program to add some data to an existing Series."
      ],
      "metadata": {
        "id": "8evzT19Jzfve"
      }
    },
    {
      "cell_type": "code",
      "source": [
        "new_data_append = {'d':4, 'e':6}\n",
        "updated_series = d2.append(pd.Series(new_data_append))\n",
        "print(updated_series)"
      ],
      "metadata": {
        "id": "HuWRmY3h9J9R",
        "colab": {
          "base_uri": "https://localhost:8080/"
        },
        "outputId": "85929496-b29e-4e54-fed5-4e8a1eb9df8c"
      },
      "execution_count": null,
      "outputs": [
        {
          "output_type": "stream",
          "name": "stdout",
          "text": [
            "a    1\n",
            "b    5\n",
            "c    3\n",
            "d    4\n",
            "e    6\n",
            "dtype: int64\n"
          ]
        },
        {
          "output_type": "stream",
          "name": "stderr",
          "text": [
            "<ipython-input-22-fe96f2cd2389>:2: FutureWarning: The series.append method is deprecated and will be removed from pandas in a future version. Use pandas.concat instead.\n",
            "  updated_series = d2.append(pd.Series(new_data_append))\n"
          ]
        }
      ]
    },
    {
      "cell_type": "markdown",
      "source": [
        "13. Write a Pandas program to create a subset of a given series based on\n",
        "value and condition."
      ],
      "metadata": {
        "id": "YrMbbO-ZzkGP"
      }
    },
    {
      "cell_type": "code",
      "source": [
        "import pandas as pd\n",
        "s = pd.Series([1,2,3,4,5,6,7,8,9,10])\n",
        "print(s)\n",
        "print(\"Subset:\")\n",
        "n = 7\n",
        "subset = s[s > n]\n",
        "print(subset)"
      ],
      "metadata": {
        "id": "l0CrGL5M9JUl",
        "colab": {
          "base_uri": "https://localhost:8080/"
        },
        "outputId": "0780237e-1723-448b-9538-828aa6210d55"
      },
      "execution_count": null,
      "outputs": [
        {
          "output_type": "stream",
          "name": "stdout",
          "text": [
            "0     1\n",
            "1     2\n",
            "2     3\n",
            "3     4\n",
            "4     5\n",
            "5     6\n",
            "6     7\n",
            "7     8\n",
            "8     9\n",
            "9    10\n",
            "dtype: int64\n",
            "Subset:\n",
            "7     8\n",
            "8     9\n",
            "9    10\n",
            "dtype: int64\n"
          ]
        }
      ]
    },
    {
      "cell_type": "markdown",
      "source": [
        "14. Write a Pandas program to change the order of index of a given series.\n"
      ],
      "metadata": {
        "id": "bcZWNC_NznQR"
      }
    },
    {
      "cell_type": "code",
      "source": [
        "new_order = ['b', 'a', 'c']\n",
        "record = d2.reindex(new_order)\n",
        "print(record)"
      ],
      "metadata": {
        "id": "CCoH-p3h9IlN",
        "colab": {
          "base_uri": "https://localhost:8080/"
        },
        "outputId": "effc117b-2231-4e6f-81d0-837f849fde60"
      },
      "execution_count": null,
      "outputs": [
        {
          "output_type": "stream",
          "name": "stdout",
          "text": [
            "b    5\n",
            "a    1\n",
            "c    3\n",
            "dtype: int64\n"
          ]
        }
      ]
    },
    {
      "cell_type": "markdown",
      "source": [
        "15. Write a Pandas program to create the mean and standard deviation of the\n",
        "data of a given Series."
      ],
      "metadata": {
        "id": "EhERd7n7zqJZ"
      }
    },
    {
      "cell_type": "code",
      "source": [
        "mean_value = d2.mean()\n",
        "std_dev = d2.std()\n",
        "print(d2)\n",
        "\n",
        "print(\"\\nMean of the Series:\", mean_value)\n",
        "print(\"Standard Deviation of the Series:\", std_dev)"
      ],
      "metadata": {
        "id": "QGjaUH4O9Dpy",
        "colab": {
          "base_uri": "https://localhost:8080/"
        },
        "outputId": "d5258552-12f7-4d13-b88e-369ec55ab2a2"
      },
      "execution_count": null,
      "outputs": [
        {
          "output_type": "stream",
          "name": "stdout",
          "text": [
            "a    1\n",
            "b    5\n",
            "c    3\n",
            "dtype: int64\n",
            "\n",
            "Mean of the Series: 3.0\n",
            "Standard Deviation of the Series: 2.0\n"
          ]
        }
      ]
    },
    {
      "cell_type": "markdown",
      "source": [
        "16. Write a Pandas program to get the items of a given series not present in\n",
        "another given series."
      ],
      "metadata": {
        "id": "tkbhWoMlzxwk"
      }
    },
    {
      "cell_type": "code",
      "source": [
        "s1 = pd.Series([1,2,3,4,5])\n",
        "s2 = pd.Series([3,4,5,6,7])\n",
        "noitems = s1[~s1.isin(s2)]\n",
        "print(s1)\n",
        "print(s2)\n",
        "print(noitems)"
      ],
      "metadata": {
        "id": "RuVaedvp9DDq",
        "colab": {
          "base_uri": "https://localhost:8080/"
        },
        "outputId": "857d709d-b3ad-4288-fa73-65228973cd90"
      },
      "execution_count": null,
      "outputs": [
        {
          "output_type": "stream",
          "name": "stdout",
          "text": [
            "0    1\n",
            "1    2\n",
            "2    3\n",
            "3    4\n",
            "4    5\n",
            "dtype: int64\n",
            "0    3\n",
            "1    4\n",
            "2    5\n",
            "3    6\n",
            "4    7\n",
            "dtype: int64\n",
            "0    1\n",
            "1    2\n",
            "dtype: int64\n"
          ]
        }
      ]
    },
    {
      "cell_type": "markdown",
      "source": [
        "17. Write a Pandas program to get the items which are not common of two\n",
        "given series."
      ],
      "metadata": {
        "id": "JZe8r98Az0vF"
      }
    },
    {
      "cell_type": "code",
      "source": [
        "import pandas as pd\n",
        "import numpy as np\n",
        "s1 = pd.Series([1,2,3,4,5])\n",
        "s2 = pd.Series([3,4,5,6,7])\n",
        "S1 = pd.Series(np.union1d(s1, s2))\n",
        "S2 = pd.Series(np.intersect1d(s1, s2))\n",
        "nocommon = S1[~S1.isin(S2)]\n",
        "print(s1)\n",
        "print(s2)\n",
        "print(nocommon)"
      ],
      "metadata": {
        "id": "l-hVAFzQ9CL-",
        "colab": {
          "base_uri": "https://localhost:8080/"
        },
        "outputId": "95e5498f-6b63-4f9a-855f-dd12e4a1c93b"
      },
      "execution_count": null,
      "outputs": [
        {
          "output_type": "stream",
          "name": "stdout",
          "text": [
            "0    1\n",
            "1    2\n",
            "2    3\n",
            "3    4\n",
            "4    5\n",
            "dtype: int64\n",
            "0    3\n",
            "1    4\n",
            "2    5\n",
            "3    6\n",
            "4    7\n",
            "dtype: int64\n",
            "0    1\n",
            "1    2\n",
            "5    6\n",
            "6    7\n",
            "dtype: int64\n"
          ]
        }
      ]
    },
    {
      "cell_type": "markdown",
      "source": [
        "18. Write a Pandas program to compute the minimum, 25th percentile,\n",
        "median, 75th, and maximum of a given series.\n"
      ],
      "metadata": {
        "id": "oIy9lkcMz4be"
      }
    },
    {
      "cell_type": "code",
      "source": [
        "import pandas as pd\n",
        "import numpy as np\n",
        "num_state = np.random.RandomState(100)\n",
        "num_series = pd.Series(num_state.normal(10,4,20))\n",
        "print(num_series)\n",
        "result = np.percentile(num_series, q=[0,25,50,75,100])\n",
        "print(result)"
      ],
      "metadata": {
        "id": "LxGKpHCF892A",
        "colab": {
          "base_uri": "https://localhost:8080/"
        },
        "outputId": "bab53998-93b6-44dd-961b-4186615d88e5"
      },
      "execution_count": null,
      "outputs": [
        {
          "output_type": "stream",
          "name": "stdout",
          "text": [
            "0      3.000938\n",
            "1     11.370722\n",
            "2     14.612143\n",
            "3      8.990256\n",
            "4     13.925283\n",
            "5     12.056875\n",
            "6     10.884719\n",
            "7      5.719827\n",
            "8      9.242017\n",
            "9     11.020006\n",
            "10     8.167892\n",
            "11    11.740654\n",
            "12     7.665620\n",
            "13    13.267388\n",
            "14    12.690883\n",
            "15     9.582355\n",
            "16     7.874878\n",
            "17    14.118931\n",
            "18     8.247458\n",
            "19     5.526727\n",
            "dtype: float64\n",
            "[ 3.00093811  8.09463867 10.23353705 12.21537733 14.61214321]\n"
          ]
        }
      ]
    },
    {
      "cell_type": "markdown",
      "source": [
        "19. Write a Pandas program to calculate the frequency counts of each unique\n",
        "value of a given series.\n"
      ],
      "metadata": {
        "id": "FCkf12Umz-Hr"
      }
    },
    {
      "cell_type": "code",
      "source": [
        "import pandas as pd\n",
        "A = pd.Series([1,1,2,3,4,5,5])\n",
        "print(A)\n",
        "print(A.value_counts())"
      ],
      "metadata": {
        "id": "Wha4T1Ps88iE",
        "colab": {
          "base_uri": "https://localhost:8080/"
        },
        "outputId": "b4bd4386-6b49-4d16-e00b-718134e52b84"
      },
      "execution_count": null,
      "outputs": [
        {
          "output_type": "stream",
          "name": "stdout",
          "text": [
            "0    1\n",
            "1    1\n",
            "2    2\n",
            "3    3\n",
            "4    4\n",
            "5    5\n",
            "6    5\n",
            "dtype: int64\n",
            "1    2\n",
            "5    2\n",
            "2    1\n",
            "3    1\n",
            "4    1\n",
            "dtype: int64\n"
          ]
        }
      ]
    },
    {
      "cell_type": "markdown",
      "source": [
        "20. Write a Pandas program to display most frequent value in a given series\n",
        "and replace everything else as 'Other' in the series.\n"
      ],
      "metadata": {
        "id": "DHtViP-s0DJg"
      }
    },
    {
      "cell_type": "code",
      "source": [
        "import pandas as pd\n",
        "import numpy as np\n",
        "num_series = pd.Series(np.random.randint(1,5,[15]))\n",
        "print(num_series)\n",
        "print(\"Top 2 Freq:0\", num_series.value_counts())\n",
        "result = num_series[~num_series.isin(num_series.value_counts().index[:1])] = 'Other'\n",
        "print(num_series)"
      ],
      "metadata": {
        "id": "tMkOOs1M877Y",
        "colab": {
          "base_uri": "https://localhost:8080/"
        },
        "outputId": "69fb4992-6ce8-483c-82c0-0ab79f924b28"
      },
      "execution_count": null,
      "outputs": [
        {
          "output_type": "stream",
          "name": "stdout",
          "text": [
            "0     2\n",
            "1     3\n",
            "2     4\n",
            "3     3\n",
            "4     1\n",
            "5     4\n",
            "6     1\n",
            "7     2\n",
            "8     2\n",
            "9     3\n",
            "10    3\n",
            "11    1\n",
            "12    2\n",
            "13    1\n",
            "14    4\n",
            "dtype: int64\n",
            "Top 2 Freq:0 2    4\n",
            "3    4\n",
            "1    4\n",
            "4    3\n",
            "dtype: int64\n",
            "0         2\n",
            "1     Other\n",
            "2     Other\n",
            "3     Other\n",
            "4     Other\n",
            "5     Other\n",
            "6     Other\n",
            "7         2\n",
            "8         2\n",
            "9     Other\n",
            "10    Other\n",
            "11    Other\n",
            "12        2\n",
            "13    Other\n",
            "14    Other\n",
            "dtype: object\n"
          ]
        }
      ]
    },
    {
      "cell_type": "markdown",
      "source": [
        "21. Write a Pandas program to find the positions of numbers that are multiples\n",
        "of 5 of a given series.\n"
      ],
      "metadata": {
        "id": "8SFHl-Sl0G6A"
      }
    },
    {
      "cell_type": "code",
      "source": [
        "import pandas as pd\n",
        "import numpy as np\n",
        "num_series = pd.Series(np.random.randint(1,10,9))\n",
        "print(num_series)\n",
        "result = np.where(num_series % 5==0)\n",
        "print(\"Positions of no. that are multiple of 5:\")\n",
        "print(result)"
      ],
      "metadata": {
        "id": "a1bI4kJK87KD",
        "colab": {
          "base_uri": "https://localhost:8080/"
        },
        "outputId": "d4482f4f-0d02-42da-8876-d6168e025097"
      },
      "execution_count": null,
      "outputs": [
        {
          "output_type": "stream",
          "name": "stdout",
          "text": [
            "0    7\n",
            "1    6\n",
            "2    2\n",
            "3    2\n",
            "4    2\n",
            "5    8\n",
            "6    7\n",
            "7    8\n",
            "8    7\n",
            "dtype: int64\n",
            "Positions of no. that are multiple of 5:\n",
            "(array([], dtype=int64),)\n"
          ]
        }
      ]
    },
    {
      "cell_type": "markdown",
      "source": [
        "22. Write a Pandas program to extract items at given positions of a given\n",
        "series.\n"
      ],
      "metadata": {
        "id": "p_sRlKT80MUp"
      }
    },
    {
      "cell_type": "code",
      "source": [
        "import pandas as pd\n",
        "s = pd.Series(list('123456789'))\n",
        "element_pos = [1,3,5,7]\n",
        "print(s)\n",
        "pos = s.take(element_pos)\n",
        "print(pos)"
      ],
      "metadata": {
        "id": "TuN6sqJj86fY",
        "colab": {
          "base_uri": "https://localhost:8080/"
        },
        "outputId": "e0589b0c-a794-4f93-bd40-fafe549cc510"
      },
      "execution_count": null,
      "outputs": [
        {
          "output_type": "stream",
          "name": "stdout",
          "text": [
            "0    1\n",
            "1    2\n",
            "2    3\n",
            "3    4\n",
            "4    5\n",
            "5    6\n",
            "6    7\n",
            "7    8\n",
            "8    9\n",
            "dtype: object\n",
            "1    2\n",
            "3    4\n",
            "5    6\n",
            "7    8\n",
            "dtype: object\n"
          ]
        }
      ]
    },
    {
      "cell_type": "markdown",
      "source": [
        "23. Write a Pandas program to get the positions of items of a given series in\n",
        "another given series.\n"
      ],
      "metadata": {
        "id": "m3gVXEq50NB9"
      }
    },
    {
      "cell_type": "code",
      "source": [
        "import pandas as pd\n",
        "s1 = pd.Series([1,2,3,4,5,6,7,8,9,10])\n",
        "s2 = pd.Series([1,3,5,7,10])\n",
        "print(s1)\n",
        "print(s2)\n",
        "pos = [pd.Index(s1).get_loc(i) for i in s2]\n",
        "print(pos)"
      ],
      "metadata": {
        "id": "A0zUU1Fj85Td",
        "colab": {
          "base_uri": "https://localhost:8080/"
        },
        "outputId": "b5807f22-5650-4f1c-93d4-cd2d11b25500"
      },
      "execution_count": null,
      "outputs": [
        {
          "output_type": "stream",
          "name": "stdout",
          "text": [
            "0     1\n",
            "1     2\n",
            "2     3\n",
            "3     4\n",
            "4     5\n",
            "5     6\n",
            "6     7\n",
            "7     8\n",
            "8     9\n",
            "9    10\n",
            "dtype: int64\n",
            "0     1\n",
            "1     3\n",
            "2     5\n",
            "3     7\n",
            "4    10\n",
            "dtype: int64\n",
            "[0, 2, 4, 6, 9]\n"
          ]
        }
      ]
    },
    {
      "cell_type": "markdown",
      "source": [
        "24. Write a Pandas program convert the first and last character of each word\n",
        "to upper case in each word of a given series.\n"
      ],
      "metadata": {
        "id": "p-ykrCAq0PrN"
      }
    },
    {
      "cell_type": "code",
      "source": [
        "import pandas as pd\n",
        "s = pd.Series(['world', 'peace', 'university'])\n",
        "print(s)\n",
        "result = s.map(lambda x: x[0].upper() +x[1:-1] + x[-1].upper())\n",
        "print(result)"
      ],
      "metadata": {
        "id": "A_tKykQT84tv",
        "colab": {
          "base_uri": "https://localhost:8080/"
        },
        "outputId": "c55019b7-0c89-4c23-89f2-0e34b2bbb021"
      },
      "execution_count": null,
      "outputs": [
        {
          "output_type": "stream",
          "name": "stdout",
          "text": [
            "0         world\n",
            "1         peace\n",
            "2    university\n",
            "dtype: object\n",
            "0         WorlD\n",
            "1         PeacE\n",
            "2    UniversitY\n",
            "dtype: object\n"
          ]
        }
      ]
    },
    {
      "cell_type": "markdown",
      "source": [
        "25. Write a Pandas program to calculate the number of characters in each\n",
        "word in a given series"
      ],
      "metadata": {
        "id": "Vrdkq9BN0UfQ"
      }
    },
    {
      "cell_type": "code",
      "source": [
        "import pandas as pd\n",
        "s = pd.Series(['world', 'peace', 'university'])\n",
        "print(s)\n",
        "result = s.map(lambda x: len(x))\n",
        "print(result)"
      ],
      "metadata": {
        "id": "eUg0XzG784GY",
        "colab": {
          "base_uri": "https://localhost:8080/"
        },
        "outputId": "3842dbb0-625f-4e07-b0ec-6ef57314cf07"
      },
      "execution_count": null,
      "outputs": [
        {
          "output_type": "stream",
          "name": "stdout",
          "text": [
            "0         world\n",
            "1         peace\n",
            "2    university\n",
            "dtype: object\n",
            "0     5\n",
            "1     5\n",
            "2    10\n",
            "dtype: int64\n"
          ]
        }
      ]
    },
    {
      "cell_type": "markdown",
      "source": [
        "**Pandas DataFrame Questions**"
      ],
      "metadata": {
        "id": "hHRPR_aK0XV5"
      }
    },
    {
      "cell_type": "markdown",
      "source": [
        "1.Write a Pandas program to create a dataframe from a dictionary and display\n",
        "it.\n",
        "Sample data: {'X':[78,85,96,80,86], 'Y':[84,94,89,83,86],'Z':[86,97,96,72,83]}\n"
      ],
      "metadata": {
        "id": "G-9k1TFm010f"
      }
    },
    {
      "cell_type": "code",
      "source": [
        "import pandas as pd\n",
        "sample_data = {'X':[78,85,96,80,86], 'Y':[84,94,89,83,86], 'Z':[86,97,96,72,83]}\n",
        "df = pd.DataFrame(sample_data)\n",
        "print(df)"
      ],
      "metadata": {
        "id": "VEhP4H237MDz",
        "colab": {
          "base_uri": "https://localhost:8080/"
        },
        "outputId": "5cceaa70-96f0-4f7a-db1e-cc124afbdf29"
      },
      "execution_count": null,
      "outputs": [
        {
          "output_type": "stream",
          "name": "stdout",
          "text": [
            "    X   Y   Z\n",
            "0  78  84  86\n",
            "1  85  94  97\n",
            "2  96  89  96\n",
            "3  80  83  72\n",
            "4  86  86  83\n"
          ]
        }
      ]
    },
    {
      "cell_type": "markdown",
      "source": [
        "2. Write a Pandas program to create and display a DataFrame from a\n",
        "specified dictionary data which has the index labels.\n",
        "Sample Python dictionary data and list labels:\n",
        "exam_data = {'name': ['Anastasia', 'Dima', 'Katherine', 'James', 'Emily',\n",
        "'Michael', 'Matthew', 'Laura', 'Kevin', 'Jonas'],\n",
        "'score': [12.5, 9, 16.5, np.nan, 9, 20, 14.5, np.nan, 8, 19],\n",
        "'attempts': [1, 3, 2, 3, 2, 3, 1, 1, 2, 1],\n",
        "'qualify': ['yes', 'no', 'yes', 'no', 'no', 'yes', 'yes', 'no', 'no', 'yes']}\n",
        "labels = ['a', 'b', 'c', 'd', 'e', 'f', 'g', 'h', 'i', 'j']\n"
      ],
      "metadata": {
        "id": "FUgD1NRq1RLn"
      }
    },
    {
      "cell_type": "code",
      "source": [
        "import pandas as pd\n",
        "import numpy as np\n",
        "exam_data = {'name':['Anastasia', 'Dima', 'Katherine', 'James', 'Emily', 'Michael', 'Matthew', 'Laura', 'Kevin', 'Jonas'], 'score': [12.5, 9, 16.5, np.nan, 9, 20, 14.5, np.nan, 8, 19], 'attempts': [1, 3, 2, 3, 2, 3, 1, 1, 2, 1],'qualify': ['yes', 'no', 'yes', 'no', 'no', 'yes', 'yes', 'no', 'no', 'yes']}\n",
        "labels = ['a', 'b', 'c', 'd', 'e', 'f', 'g', 'h', 'i', 'j']\n",
        "df = pd.DataFrame(exam_data, index = labels)\n",
        "print(df)"
      ],
      "metadata": {
        "id": "GYKXqg_a7LXL",
        "colab": {
          "base_uri": "https://localhost:8080/"
        },
        "outputId": "fa2dd7d3-4865-490a-ca71-4d1ad2a5c457"
      },
      "execution_count": null,
      "outputs": [
        {
          "output_type": "stream",
          "name": "stdout",
          "text": [
            "        name  score  attempts qualify\n",
            "a  Anastasia   12.5         1     yes\n",
            "b       Dima    9.0         3      no\n",
            "c  Katherine   16.5         2     yes\n",
            "d      James    NaN         3      no\n",
            "e      Emily    9.0         2      no\n",
            "f    Michael   20.0         3     yes\n",
            "g    Matthew   14.5         1     yes\n",
            "h      Laura    NaN         1      no\n",
            "i      Kevin    8.0         2      no\n",
            "j      Jonas   19.0         1     yes\n"
          ]
        }
      ]
    },
    {
      "cell_type": "markdown",
      "source": [
        "3. Write a Pandas program to display a summary of the basic information\n",
        "about a specified DataFrame and its data.\n",
        "Sample Python dictionary data and list labels:\n",
        "exam_data = {'name': ['Anastasia', 'Dima', 'Katherine', 'James', 'Emily',\n",
        "'Michael', 'Matthew', 'Laura', 'Kevin', 'Jonas'],\n",
        "'score': [12.5, 9, 16.5, np.nan, 9, 20, 14.5, np.nan, 8, 19],\n",
        "'attempts': [1, 3, 2, 3, 2, 3, 1, 1, 2, 1],\n",
        "'qualify': ['yes', 'no', 'yes', 'no', 'no', 'yes', 'yes', 'no', 'no', 'yes']}\n",
        "labels = ['a', 'b', 'c', 'd', 'e', 'f', 'g', 'h', 'i', 'j']"
      ],
      "metadata": {
        "id": "lPYou98O1UeA"
      }
    },
    {
      "cell_type": "code",
      "source": [
        "import pandas as pd\n",
        "import numpy as np\n",
        "exam_data = {'name':['Anastasia', 'Dima', 'Katherine', 'James', 'Emily', 'Michael', 'Matthew', 'Laura', 'Kevin', 'Jonas'], 'score': [12.5, 9, 16.5, np.nan, 9, 20, 14.5, np.nan, 8, 19], 'attempts': [1, 3, 2, 3, 2, 3, 1, 1, 2, 1],'qualify': ['yes', 'no', 'yes', 'no', 'no', 'yes', 'yes', 'no', 'no', 'yes']}\n",
        "labels = ['a', 'b', 'c', 'd', 'e', 'f', 'g', 'h', 'i', 'j']\n",
        "df = pd.DataFrame(exam_data, index = labels)\n",
        "print(df.info())"
      ],
      "metadata": {
        "id": "vJKsE4hL7KLg",
        "colab": {
          "base_uri": "https://localhost:8080/"
        },
        "outputId": "be7c2cf5-0e59-4c80-e964-be3528fa05ae"
      },
      "execution_count": null,
      "outputs": [
        {
          "output_type": "stream",
          "name": "stdout",
          "text": [
            "Summary of the basic information the DataFrame and its data:\n",
            "<class 'pandas.core.frame.DataFrame'>\n",
            "Index: 10 entries, a to j\n",
            "Data columns (total 4 columns):\n",
            " #   Column    Non-Null Count  Dtype  \n",
            "---  ------    --------------  -----  \n",
            " 0   name      10 non-null     object \n",
            " 1   score     8 non-null      float64\n",
            " 2   attempts  10 non-null     int64  \n",
            " 3   qualify   10 non-null     object \n",
            "dtypes: float64(1), int64(1), object(2)\n",
            "memory usage: 400.0+ bytes\n",
            "None\n"
          ]
        }
      ]
    },
    {
      "cell_type": "markdown",
      "source": [
        "4. Write a Pandas program to get the first 3 rows of a given DataFrame.\n",
        "Sample Python dictionary data and list labels:\n",
        "exam_data = {'name': ['Anastasia', 'Dima', 'Katherine', 'James', 'Emily',\n",
        "'Michael', 'Matthew', 'Laura', 'Kevin', 'Jonas'],\n",
        "'score': [12.5, 9, 16.5, np.nan, 9, 20, 14.5, np.nan, 8, 19],\n",
        "'attempts': [1, 3, 2, 3, 2, 3, 1, 1, 2, 1],\n",
        "'qualify': ['yes', 'no', 'yes', 'no', 'no', 'yes', 'yes', 'no', 'no', 'yes']}\n",
        "labels = ['a', 'b', 'c', 'd', 'e', 'f', 'g', 'h', 'i', 'j']\n"
      ],
      "metadata": {
        "id": "RFZqQUln1Xzw"
      }
    },
    {
      "cell_type": "code",
      "source": [
        "import pandas as pd\n",
        "import numpy as np\n",
        "exam_data = {'name':['Anastasia', 'Dima', 'Katherine', 'James', 'Emily', 'Michael', 'Matthew', 'Laura', 'Kevin', 'Jonas'], 'score': [12.5, 9, 16.5, np.nan, 9, 20, 14.5, np.nan, 8, 19], 'attempts': [1, 3, 2, 3, 2, 3, 1, 1, 2, 1],'qualify': ['yes', 'no', 'yes', 'no', 'no', 'yes', 'yes', 'no', 'no', 'yes']}\n",
        "labels = ['a', 'b', 'c', 'd', 'e', 'f', 'g', 'h', 'i', 'j']\n",
        "df = pd.DataFrame(exam_data, index = labels)\n",
        "print(df.iloc[:3])"
      ],
      "metadata": {
        "id": "OxJEBYTb7Jio",
        "colab": {
          "base_uri": "https://localhost:8080/"
        },
        "outputId": "28513104-cbb0-4d6d-e8eb-6388a900182b"
      },
      "execution_count": null,
      "outputs": [
        {
          "output_type": "stream",
          "name": "stdout",
          "text": [
            "First 3 rows of the DataFrame:\n",
            "        name  score  attempts qualify\n",
            "a  Anastasia   12.5         1     yes\n",
            "b       Dima    9.0         3      no\n",
            "c  Katherine   16.5         2     yes\n"
          ]
        }
      ]
    },
    {
      "cell_type": "markdown",
      "source": [
        "5. Write a Pandas program to select the 'name' and 'score' columns from the\n",
        "following DataFrame.\n",
        "Sample Python dictionary data and list labels:\n",
        "exam_data = {'name': ['Anastasia', 'Dima', 'Katherine', 'James', 'Emily',\n",
        "'Michael', 'Matthew', 'Laura', 'Kevin', 'Jonas'],\n",
        "'score': [12.5, 9, 16.5, np.nan, 9, 20, 14.5, np.nan, 8, 19],\n",
        "'attempts': [1, 3, 2, 3, 2, 3, 1, 1, 2, 1],\n",
        "'qualify': ['yes', 'no', 'yes', 'no', 'no', 'yes', 'yes', 'no', 'no', 'yes']}\n",
        "labels = ['a', 'b', 'c', 'd', 'e', 'f', 'g', 'h', 'i', 'j']"
      ],
      "metadata": {
        "id": "MUQhOnaB1bvD"
      }
    },
    {
      "cell_type": "code",
      "source": [
        "import pandas as pd\n",
        "import numpy as np\n",
        "exam_data = {'name':['Anastasia', 'Dima', 'Katherine', 'James', 'Emily', 'Michael', 'Matthew', 'Laura', 'Kevin', 'Jonas'], 'score': [12.5, 9, 16.5, np.nan, 9, 20, 14.5, np.nan, 8, 19], 'attempts': [1, 3, 2, 3, 2, 3, 1, 1, 2, 1],'qualify': ['yes', 'no', 'yes', 'no', 'no', 'yes', 'yes', 'no', 'no', 'yes']}\n",
        "labels = ['a', 'b', 'c', 'd', 'e', 'f', 'g', 'h', 'i', 'j']\n",
        "df = pd.DataFrame(exam_data, index = labels)\n",
        "print(df[['name','score']])"
      ],
      "metadata": {
        "id": "ygjnRlNB7I1B",
        "colab": {
          "base_uri": "https://localhost:8080/"
        },
        "outputId": "3592acb6-65e3-4e57-9d7a-ff0ab82ad892"
      },
      "execution_count": null,
      "outputs": [
        {
          "output_type": "stream",
          "name": "stdout",
          "text": [
            "Selecting specific columns:\n",
            "        name  score\n",
            "a  Anastasia   12.5\n",
            "b       Dima    9.0\n",
            "c  Katherine   16.5\n",
            "d      James    NaN\n",
            "e      Emily    9.0\n",
            "f    Michael   20.0\n",
            "g    Matthew   14.5\n",
            "h      Laura    NaN\n",
            "i      Kevin    8.0\n",
            "j      Jonas   19.0\n"
          ]
        }
      ]
    },
    {
      "cell_type": "markdown",
      "source": [
        "6. Write a Pandas program to select the specified columns and rows from a\n",
        "given data frame.\n",
        "Sample Python dictionary data and list labels:\n",
        "Select 'name' and 'score' columns in rows 1, 3, 5, 6 from the following data\n",
        "frame.\n",
        "exam_data = {'name': ['Anastasia', 'Dima', 'Katherine', 'James', 'Emily',\n",
        "'Michael', 'Matthew', 'Laura', 'Kevin', 'Jonas']"
      ],
      "metadata": {
        "id": "8LyktGnz1iq2"
      }
    },
    {
      "cell_type": "code",
      "source": [
        "import pandas as pd\n",
        "import numpy as np\n",
        "exam_data = {'name':['Anastasia', 'Dima', 'Katherine', 'James', 'Emily', 'Michael', 'Matthew', 'Laura', 'Kevin', 'Jonas'], 'score': [12.5, 9, 16.5, np.nan, 9, 20, 14.5, np.nan, 8, 19], 'attempts': [1, 3, 2, 3, 2, 3, 1, 1, 2, 1],'qualify': ['yes', 'no', 'yes', 'no', 'no', 'yes', 'yes', 'no', 'no', 'yes']}\n",
        "labels = ['a', 'b', 'c', 'd', 'e', 'f', 'g', 'h', 'i', 'j']\n",
        "df = pd.DataFrame(exam_data, index = labels)\n",
        "print(df.iloc[[1,3,5,6], [1,3]])"
      ],
      "metadata": {
        "id": "sEo3Hc2O7IGq",
        "colab": {
          "base_uri": "https://localhost:8080/"
        },
        "outputId": "f492ec7d-b61a-4dec-99a9-e441d0a95c62"
      },
      "execution_count": null,
      "outputs": [
        {
          "output_type": "stream",
          "name": "stdout",
          "text": [
            "Selecting specific rows and columns:\n",
            "   score qualify\n",
            "b    9.0      no\n",
            "d    NaN      no\n",
            "f   20.0     yes\n",
            "g   14.5     yes\n"
          ]
        }
      ]
    },
    {
      "cell_type": "markdown",
      "source": [
        "7. Write a Pandas program to select the rows where the number of attempts in\n",
        "the examination is greater than 2.\n",
        "Sample Python dictionary data and list labels:\n",
        "exam_data = {'name': ['Anastasia', 'Dima', 'Katherine', 'James', 'Emily',\n",
        "'Michael', 'Matthew', 'Laura', 'Kevin', 'Jonas'],\n",
        "'score': [12.5, 9, 16.5, np.nan, 9, 20, 14.5, np.nan, 8, 19],\n",
        "'attempts': [1, 3, 2, 3, 2, 3, 1, 1, 2, 1],\n",
        "'qualify': ['yes', 'no', 'yes', 'no', 'no', 'yes', 'yes', 'no', 'no', 'yes']}\n",
        "labels = ['a', 'b', 'c', 'd', 'e', 'f', 'g', 'h', 'i', 'j']"
      ],
      "metadata": {
        "id": "O_KzouV11nJS"
      }
    },
    {
      "cell_type": "code",
      "source": [
        "import pandas as pd\n",
        "import numpy as np\n",
        "exam_data = {'name':['Anastasia', 'Dima', 'Katherine', 'James', 'Emily', 'Michael', 'Matthew', 'Laura', 'Kevin', 'Jonas'], 'score': [12.5, 9, 16.5, np.nan, 9, 20, 14.5, np.nan, 8, 19], 'attempts': [1, 3, 2, 3, 2, 3, 1, 1, 2, 1],'qualify': ['yes', 'no', 'yes', 'no', 'no', 'yes', 'yes', 'no', 'no', 'yes']}\n",
        "labels = ['a', 'b', 'c', 'd', 'e', 'f', 'g', 'h', 'i', 'j']\n",
        "df = pd.DataFrame(exam_data, index = labels)\n",
        "print(df[df['attempts'] > 2])"
      ],
      "metadata": {
        "id": "Orp-1KyX7Gwg",
        "colab": {
          "base_uri": "https://localhost:8080/"
        },
        "outputId": "88367d0f-3c05-4915-e9b8-01a5f0d6a282"
      },
      "execution_count": null,
      "outputs": [
        {
          "output_type": "stream",
          "name": "stdout",
          "text": [
            "Number of attempts in the examination is greater than 2:\n",
            "      name  score  attempts qualify\n",
            "b     Dima    9.0         3      no\n",
            "d    James    NaN         3      no\n",
            "f  Michael   20.0         3     yes\n"
          ]
        }
      ]
    },
    {
      "cell_type": "markdown",
      "source": [
        "8. Write a Pandas program to count the number of rows and columns of a\n",
        "DataFrame.\n",
        "Sample Python dictionary data and list labels:\n",
        "exam_data = {'name': ['Anastasia', 'Dima', 'Katherine', 'James', 'Emily',\n",
        "'Michael', 'Matthew', 'Laura', 'Kevin', 'Jonas'],\n",
        "'score': [12.5, 9, 16.5, np.nan, 9, 20, 14.5, np.nan, 8, 19],\n",
        "'attempts': [1, 3, 2, 3, 2, 3, 1, 1, 2, 1],\n",
        "'qualify': ['yes', 'no', 'yes', 'no', 'no', 'yes', 'yes', 'no', 'no', 'yes']}\n",
        "labels = ['a', 'b', 'c', 'd', 'e', 'f', 'g', 'h', 'i', 'j']\n"
      ],
      "metadata": {
        "id": "Wcc3E0Bf1rJT"
      }
    },
    {
      "cell_type": "code",
      "source": [
        "import pandas as pd\n",
        "import numpy as np\n",
        "exam_data = {'name':['Anastasia', 'Dima', 'Katherine', 'James', 'Emily', 'Michael', 'Matthew', 'Laura', 'Kevin', 'Jonas'], 'score': [12.5, 9, 16.5, np.nan, 9, 20, 14.5, np.nan, 8, 19], 'attempts': [1, 3, 2, 3, 2, 3, 1, 1, 2, 1],'qualify': ['yes', 'no', 'yes', 'no', 'no', 'yes', 'yes', 'no', 'no', 'yes']}\n",
        "labels = ['a', 'b', 'c', 'd', 'e', 'f', 'g', 'h', 'i', 'j']\n",
        "df = pd.DataFrame(exam_data, index = labels)\n",
        "print(df)\n",
        "no_rows = len(df.index)\n",
        "print(no_rows)\n",
        "no_col = len(df.columns)\n",
        "print(no_col)"
      ],
      "metadata": {
        "id": "I0N9tdVd7GDt",
        "colab": {
          "base_uri": "https://localhost:8080/"
        },
        "outputId": "7b9b9c96-0277-49a7-c95b-5ef24a23d373"
      },
      "execution_count": null,
      "outputs": [
        {
          "output_type": "stream",
          "name": "stdout",
          "text": [
            "        name  score  attempts qualify\n",
            "a  Anastasia   12.5         1     yes\n",
            "b       Dima    9.0         3      no\n",
            "c  Katherine   16.5         2     yes\n",
            "d      James    NaN         3      no\n",
            "e      Emily    9.0         2      no\n",
            "f    Michael   20.0         3     yes\n",
            "g    Matthew   14.5         1     yes\n",
            "h      Laura    NaN         1      no\n",
            "i      Kevin    8.0         2      no\n",
            "j      Jonas   19.0         1     yes\n",
            "10\n",
            "4\n"
          ]
        }
      ]
    },
    {
      "cell_type": "markdown",
      "source": [
        "9. Write a Pandas program to select the rows where the score is missing, i.e.\n",
        "is NaN.\n",
        "Sample Python dictionary data and list labels:\n",
        "exam_data = {'name': ['Anastasia', 'Dima', 'Katherine', 'James', 'Emily',\n",
        "'Michael', 'Matthew', 'Laura', 'Kevin', 'Jonas'],\n",
        "'score': [12.5, 9, 16.5, np.nan, 9, 20, 14.5, np.nan, 8, 19],\n",
        "'attempts': [1, 3, 2, 3, 2, 3, 1, 1, 2, 1],\n",
        "'qualify': ['yes', 'no', 'yes', 'no', 'no', 'yes', 'yes', 'no', 'no', 'yes']}\n",
        "labels = ['a', 'b', 'c', 'd', 'e', 'f', 'g', labels = ['a', 'b', 'c', 'd', 'e', 'f', 'g', 'h', 'i', 'j']\n"
      ],
      "metadata": {
        "id": "fa-xxI1W1y9q"
      }
    },
    {
      "cell_type": "code",
      "source": [
        "import pandas as pd\n",
        "import numpy as np\n",
        "exam_data = {'name':['Anastasia', 'Dima', 'Katherine', 'James', 'Emily', 'Michael', 'Matthew', 'Laura', 'Kevin', 'Jonas'], 'score': [12.5, 9, 16.5, np.nan, 9, 20, 14.5, np.nan, 8, 19], 'attempts': [1, 3, 2, 3, 2, 3, 1, 1, 2, 1],'qualify': ['yes', 'no', 'yes', 'no', 'no', 'yes', 'yes', 'no', 'no', 'yes']}\n",
        "labels = ['a', 'b', 'c', 'd', 'e', 'f', 'g', 'h', 'i', 'j']\n",
        "df = pd.DataFrame(exam_data, index = labels)\n",
        "print(df[df['score'].isnull()])"
      ],
      "metadata": {
        "id": "5J3zD2sG7FYC",
        "colab": {
          "base_uri": "https://localhost:8080/"
        },
        "outputId": "2d8caa12-173b-487d-b65c-26a8ddd44573"
      },
      "execution_count": null,
      "outputs": [
        {
          "output_type": "stream",
          "name": "stdout",
          "text": [
            "    name  score  attempts qualify\n",
            "d  James    NaN         3      no\n",
            "h  Laura    NaN         1      no\n"
          ]
        }
      ]
    },
    {
      "cell_type": "markdown",
      "source": [
        "10. Write a Pandas program to select the rows the score is between 15 and\n",
        "20 (inclusive).\n",
        "Sample Python dictionary data and list labels:\n",
        "exam_data = {'name': ['Anastasia', 'Dima', 'Katherine', 'James', 'Emily',\n",
        "'Michael', 'Matthew', 'Laura', 'Kevin', 'Jonas'],\n",
        "'score': [12.5, 9, 16.5, np.nan, 9, 20, 14.5, np.nan, 8, 19],\n",
        "'attempts': [1, 3, 2, 3, 2, 3, 1, 1, 2, 1],\n",
        "'qualify': ['yes', 'no', 'yes', 'no', 'no', 'yes', 'yes', 'no', 'no', 'yes']}\n",
        "labels = ['a', 'b', 'c', 'd', 'e', 'f', 'g', labels = ['a', 'b', 'c', 'd', 'e', 'f', 'g', 'h', 'i', 'j']\n"
      ],
      "metadata": {
        "id": "DqS_KPsv1z2b"
      }
    },
    {
      "cell_type": "code",
      "source": [
        "import pandas as pd\n",
        "import numpy as np\n",
        "exam_data = {'name':['Anastasia', 'Dima', 'Katherine', 'James', 'Emily', 'Michael', 'Matthew', 'Laura', 'Kevin', 'Jonas'], 'score': [12.5, 9, 16.5, np.nan, 9, 20, 14.5, np.nan, 8, 19], 'attempts': [1, 3, 2, 3, 2, 3, 1, 1, 2, 1],'qualify': ['yes', 'no', 'yes', 'no', 'no', 'yes', 'yes', 'no', 'no', 'yes']}\n",
        "labels = ['a', 'b', 'c', 'd', 'e', 'f', 'g', 'h', 'i', 'j']\n",
        "df = pd.DataFrame(exam_data, index = labels)\n",
        "print(df[df['score'].between(15,20)])"
      ],
      "metadata": {
        "id": "ILvH0PGP7Epa",
        "colab": {
          "base_uri": "https://localhost:8080/"
        },
        "outputId": "4f27e9a7-dc28-4b5a-dcda-fd1f96873783"
      },
      "execution_count": null,
      "outputs": [
        {
          "output_type": "stream",
          "name": "stdout",
          "text": [
            "        name  score  attempts qualify\n",
            "c  Katherine   16.5         2     yes\n",
            "f    Michael   20.0         3     yes\n",
            "j      Jonas   19.0         1     yes\n"
          ]
        }
      ]
    },
    {
      "cell_type": "markdown",
      "source": [
        "11. Write a Pandas program to select the rows where number of attempts in\n",
        "the examination is less than 2 and score greater than 15.\n",
        "Sample Python dictionary data and list labels:\n",
        "exam_data = {'name': ['Anastasia', 'Dima', 'Katherine', 'James', 'Emily',\n",
        "'Michael', 'Matthew', 'Laura', 'Kevin', 'Jonas'],\n",
        "'score': [12.5, 9, 16.5, np.nan, 9, 20, 14.5, np.nan, 8, 19],\n",
        "'attempts': [1, 3, 2, 3, 2, 3, 1, 1, 2, 1],\n",
        "'qualify': ['yes', 'no', 'yes', 'no', 'no', 'yes', 'yes', 'no', 'no', 'yes']}\n",
        "labels = ['a', 'b', 'c', 'd', 'e', 'f', 'g', labels = ['a', 'b', 'c', 'd', 'e', 'f', 'g', 'h', 'i', 'j']\n"
      ],
      "metadata": {
        "id": "xemdVsR217si"
      }
    },
    {
      "cell_type": "code",
      "source": [
        "import pandas as pd\n",
        "import numpy as np\n",
        "exam_data = {'name':['Anastasia', 'Dima', 'Katherine', 'James', 'Emily', 'Michael', 'Matthew', 'Laura', 'Kevin', 'Jonas'], 'score': [12.5, 9, 16.5, np.nan, 9, 20, 14.5, np.nan, 8, 19], 'attempts': [1, 3, 2, 3, 2, 3, 1, 1, 2, 1],'qualify': ['yes', 'no', 'yes', 'no', 'no', 'yes', 'yes', 'no', 'no', 'yes']}\n",
        "labels = ['a', 'b', 'c', 'd', 'e', 'f', 'g', 'h', 'i', 'j']\n",
        "df = pd.DataFrame(exam_data, index = labels)\n",
        "print(df[(df['attempts'] < 2) & (df['score'] > 15)])"
      ],
      "metadata": {
        "id": "8rgK_vl67AlV",
        "colab": {
          "base_uri": "https://localhost:8080/"
        },
        "outputId": "da61e674-3be0-4585-d00d-a1ebedc733c1"
      },
      "execution_count": null,
      "outputs": [
        {
          "output_type": "stream",
          "name": "stdout",
          "text": [
            "    name  score  attempts qualify\n",
            "j  Jonas   19.0         1     yes\n"
          ]
        }
      ]
    },
    {
      "cell_type": "markdown",
      "source": [
        "12. Write a Pandas program to change the score in row 'd' to 11.5.\n",
        "Sample Python dictionary data and list labels:\n",
        "exam_data = {'name': ['Anastasia', 'Dima', 'Katherine', 'James', 'Emily',\n",
        "'Michael', 'Matthew', 'Laura', 'Kevin', 'Jonas'],\n",
        "'score': [12.5, 9, 16.5, np.nan, 9, 20, 14.5, np.nan, 8, 19],\n",
        "'attempts': [1, 3, 2, 3, 2, 3, 1, 1, 2, 1],\n",
        "'qualify': ['yes', 'no', 'yes', 'no', 'no', 'yes', 'yes', 'no', 'no', 'yes']}\n",
        "labels = ['a', 'b', 'c', 'd', 'e', 'f', 'g', 'h', 'i', 'j']\n"
      ],
      "metadata": {
        "id": "YoIrB9hj1_c9"
      }
    },
    {
      "cell_type": "code",
      "source": [
        "import pandas as pd\n",
        "import numpy as np\n",
        "exam_data = {'name':['Anastasia', 'Dima', 'Katherine', 'James', 'Emily', 'Michael', 'Matthew', 'Laura', 'Kevin', 'Jonas'], 'score': [12.5, 9, 16.5, np.nan, 9, 20, 14.5, np.nan, 8, 19], 'attempts': [1, 3, 2, 3, 2, 3, 1, 1, 2, 1],'qualify': ['yes', 'no', 'yes', 'no', 'no', 'yes', 'yes', 'no', 'no', 'yes']}\n",
        "labels = ['a', 'b', 'c', 'd', 'e', 'f', 'g', 'h', 'i', 'j']\n",
        "df = pd.DataFrame(exam_data, index = labels)\n",
        "print(df)\n",
        "df.loc['d','score'] = 11.5\n",
        "print(df)"
      ],
      "metadata": {
        "id": "C4kxNSzS6_q9",
        "colab": {
          "base_uri": "https://localhost:8080/"
        },
        "outputId": "c335d253-d1b1-44dd-c0a6-d757ea16b3ff"
      },
      "execution_count": null,
      "outputs": [
        {
          "output_type": "stream",
          "name": "stdout",
          "text": [
            "        name  score  attempts qualify\n",
            "a  Anastasia   12.5         1     yes\n",
            "b       Dima    9.0         3      no\n",
            "c  Katherine   16.5         2     yes\n",
            "d      James    NaN         3      no\n",
            "e      Emily    9.0         2      no\n",
            "f    Michael   20.0         3     yes\n",
            "g    Matthew   14.5         1     yes\n",
            "h      Laura    NaN         1      no\n",
            "i      Kevin    8.0         2      no\n",
            "j      Jonas   19.0         1     yes\n",
            "        name  score  attempts qualify\n",
            "a  Anastasia   12.5         1     yes\n",
            "b       Dima    9.0         3      no\n",
            "c  Katherine   16.5         2     yes\n",
            "d      James   11.5         3      no\n",
            "e      Emily    9.0         2      no\n",
            "f    Michael   20.0         3     yes\n",
            "g    Matthew   14.5         1     yes\n",
            "h      Laura    NaN         1      no\n",
            "i      Kevin    8.0         2      no\n",
            "j      Jonas   19.0         1     yes\n"
          ]
        }
      ]
    },
    {
      "cell_type": "markdown",
      "source": [
        "13. Write a Pandas program to calculate the sum of the examination attempts\n",
        "by the students.\n",
        "Sample Python dictionary data and list labels:\n",
        "exam_data = {'name': ['Anastasia', 'Dima', 'Katherine', 'James', 'Emily',\n",
        "'Michael', 'Matthew', 'Laura', 'Kevin', 'Jonas'],\n",
        "'score': [12.5, 9, 16.5, np.nan, 9, 20, 14.5, np.nan, 8, 19],\n",
        "'attempts': [1, 3, 2, 3, 2, 3, 1, 1, 2, 1],\n",
        "'qualify': ['yes', 'no', 'yes', 'no', 'no', 'yes', 'yes', 'no', 'no', 'yes']}\n",
        "labels = ['a', 'b', 'c', 'd', 'e', 'f', 'g', 'h', 'i', 'j']"
      ],
      "metadata": {
        "id": "jsZl-ZYb2DUi"
      }
    },
    {
      "cell_type": "code",
      "source": [
        "import pandas as pd\n",
        "import numpy as np\n",
        "exam_data = {'name':['Anastasia', 'Dima', 'Katherine', 'James', 'Emily', 'Michael', 'Matthew', 'Laura', 'Kevin', 'Jonas'], 'score': [12.5, 9, 16.5, np.nan, 9, 20, 14.5, np.nan, 8, 19], 'attempts': [1, 3, 2, 3, 2, 3, 1, 1, 2, 1],'qualify': ['yes', 'no', 'yes', 'no', 'no', 'yes', 'yes', 'no', 'no', 'yes']}\n",
        "labels = ['a', 'b', 'c', 'd', 'e', 'f', 'g', 'h', 'i', 'j']\n",
        "df = pd.DataFrame(exam_data, index = labels)\n",
        "print(df['attempts'].sum())"
      ],
      "metadata": {
        "id": "4pCELjU6660a",
        "colab": {
          "base_uri": "https://localhost:8080/"
        },
        "outputId": "aeb8ac5b-69ec-4034-f26f-754fd493e549"
      },
      "execution_count": null,
      "outputs": [
        {
          "output_type": "stream",
          "name": "stdout",
          "text": [
            "19\n"
          ]
        }
      ]
    },
    {
      "cell_type": "markdown",
      "source": [
        "14. Write a Pandas program to calculate the mean of all students' scores.\n",
        "Data is stored in a dataframe.\n",
        "Sample Python dictionary data and list labels:\n",
        "exam_data = {'name': ['Anastasia', 'Dima', 'Katherine', 'James', 'Emily',\n",
        "'Michael', 'Matthew', 'Laura', 'Kevin', 'Jonas'],\n",
        "'score': [12.5, 9, 16.5, np.nan, 9, 20, 14.5, np.nan, 8, 19],\n",
        "'attempts': [1, 3, 2, 3, 2, 3, 1, 1, 2, 1],\n",
        "'qualify': ['yes', 'no', 'yes', 'no', 'no', 'yes', 'yes', 'no', 'no', 'yes']}\n",
        "labels = ['a', 'b', 'c', 'd', 'e', 'f', 'g', 'h', 'i', 'j']"
      ],
      "metadata": {
        "id": "DXN0BU6A2H8R"
      }
    },
    {
      "cell_type": "code",
      "source": [
        "import pandas as pd\n",
        "import numpy as np\n",
        "exam_data = {'name':['Anastasia', 'Dima', 'Katherine', 'James', 'Emily', 'Michael', 'Matthew', 'Laura', 'Kevin', 'Jonas'], 'score': [12.5, 9, 16.5, np.nan, 9, 20, 14.5, np.nan, 8, 19], 'attempts': [1, 3, 2, 3, 2, 3, 1, 1, 2, 1],'qualify': ['yes', 'no', 'yes', 'no', 'no', 'yes', 'yes', 'no', 'no', 'yes']}\n",
        "labels = ['a', 'b', 'c', 'd', 'e', 'f', 'g', 'h', 'i', 'j']\n",
        "df = pd.DataFrame(exam_data, index = labels)\n",
        "print(df['score'].mean())"
      ],
      "metadata": {
        "id": "X57mxsr266NW",
        "colab": {
          "base_uri": "https://localhost:8080/"
        },
        "outputId": "0f89232c-c69e-4ce6-e245-206b9dcdbd54"
      },
      "execution_count": null,
      "outputs": [
        {
          "output_type": "stream",
          "name": "stdout",
          "text": [
            "13.5625\n"
          ]
        }
      ]
    },
    {
      "cell_type": "markdown",
      "source": [
        "15. Write a Pandas program to append a new row 'k' to data frame with given\n",
        "values for each column. Now delete the new row and return the original\n",
        "DataFrame.\n",
        "Sample Python dictionary data and list labels:\n",
        "exam_data = {'name': ['Anastasia', 'Dima', 'Katherine', 'James', 'Emily',\n",
        "'Michael', 'Matthew', 'Laura', 'Kevin', 'Jonas'],\n",
        "'score': [12.5, 9, 16.5, np.nan, 9, 20, 14.5, np.nan, 8, 19],\n",
        "'attempts': [1, 3, 2, 3, 2, 3, 1, 1, 2, 1],\n",
        "'qualify': ['yes', 'no', 'yes', 'no', 'no', 'yes', 'yes', 'no', 'no', 'yes']}\n",
        "labels = ['a', 'b', 'c', 'd', 'e', 'f', 'g', 'h', 'i', 'j']\n",
        "Values for each column will be:\n",
        "name : \"Suresh\", score: 15.5, attempts: 1, qualify: \"yes\", label: \"k\""
      ],
      "metadata": {
        "id": "e56yPYVK2Lba"
      }
    },
    {
      "cell_type": "code",
      "source": [
        "import pandas as pd\n",
        "import numpy as np\n",
        "exam_data = {'name':['Anastasia', 'Dima', 'Katherine', 'James', 'Emily', 'Michael', 'Matthew', 'Laura', 'Kevin', 'Jonas'], 'score': [12.5, 9, 16.5, np.nan, 9, 20, 14.5, np.nan, 8, 19], 'attempts': [1, 3, 2, 3, 2, 3, 1, 1, 2, 1],'qualify': ['yes', 'no', 'yes', 'no', 'no', 'yes', 'yes', 'no', 'no', 'yes']}\n",
        "labels = ['a', 'b', 'c', 'd', 'e', 'f', 'g', 'h', 'i', 'j']\n",
        "df = pd.DataFrame(exam_data, index = labels)\n",
        "print(df)\n",
        "print(\"\\nAppend a new row:\")\n",
        "df.loc['k'] = ['Suresh', 15.5, 1, 'yes']\n",
        "print(df)\n",
        "print(\"\\nDelete new row\")\n",
        "df = df.drop('k')\n",
        "print(df)"
      ],
      "metadata": {
        "id": "ut_MDi6q65eI",
        "colab": {
          "base_uri": "https://localhost:8080/"
        },
        "outputId": "d88b8ce5-108d-4c1a-8b79-8744e39ffbcc"
      },
      "execution_count": null,
      "outputs": [
        {
          "output_type": "stream",
          "name": "stdout",
          "text": [
            "        name  score  attempts qualify\n",
            "a  Anastasia   12.5         1     yes\n",
            "b       Dima    9.0         3      no\n",
            "c  Katherine   16.5         2     yes\n",
            "d      James    NaN         3      no\n",
            "e      Emily    9.0         2      no\n",
            "f    Michael   20.0         3     yes\n",
            "g    Matthew   14.5         1     yes\n",
            "h      Laura    NaN         1      no\n",
            "i      Kevin    8.0         2      no\n",
            "j      Jonas   19.0         1     yes\n",
            "\n",
            "Append a new row:\n",
            "        name  score  attempts qualify\n",
            "a  Anastasia   12.5         1     yes\n",
            "b       Dima    9.0         3      no\n",
            "c  Katherine   16.5         2     yes\n",
            "d      James    NaN         3      no\n",
            "e      Emily    9.0         2      no\n",
            "f    Michael   20.0         3     yes\n",
            "g    Matthew   14.5         1     yes\n",
            "h      Laura    NaN         1      no\n",
            "i      Kevin    8.0         2      no\n",
            "j      Jonas   19.0         1     yes\n",
            "k     Suresh   15.5         1     yes\n",
            "\n",
            "Delete new row\n",
            "        name  score  attempts qualify\n",
            "a  Anastasia   12.5         1     yes\n",
            "b       Dima    9.0         3      no\n",
            "c  Katherine   16.5         2     yes\n",
            "d      James    NaN         3      no\n",
            "e      Emily    9.0         2      no\n",
            "f    Michael   20.0         3     yes\n",
            "g    Matthew   14.5         1     yes\n",
            "h      Laura    NaN         1      no\n",
            "i      Kevin    8.0         2      no\n",
            "j      Jonas   19.0         1     yes\n"
          ]
        }
      ]
    },
    {
      "cell_type": "markdown",
      "source": [
        "16. Write a Pandas program to sort the DataFrame first by 'name' in\n",
        "descending order, then by 'score' in ascending order.\n",
        "Sample Python dictionary data and list labels:\n",
        "exam_data = {'name': ['Anastasia', 'Dima', 'Katherine', 'James', 'Emily',\n",
        "'Michael', 'Matthew', 'Laura', 'Kevin', 'Jonas'],\n",
        "'score': [12.5, 9, 16.5, np.nan, 9, 20, 14.5, np.nan, 8, 19],\n",
        "'attempts': [1, 3, 2, 3, 2, 3, 1, 1, 2, 1],\n",
        "'qualify': ['yes', 'no', 'yes', 'no', 'no', 'yes', 'yes', 'no', 'no', 'yes']}\n",
        "labels = ['a', 'b', 'c', 'd', 'e', 'f', 'g', 'h', 'i', 'j']\n",
        "Values for each column will be:\n",
        "name : \"Suresh\", score: 15.5, attempts: 1, qualify: \"yes\", label: \"k\""
      ],
      "metadata": {
        "id": "teLn81cz2QhD"
      }
    },
    {
      "cell_type": "code",
      "source": [
        "import pandas as pd\n",
        "import numpy as np\n",
        "exam_data = {'name':['Anastasia', 'Dima', 'Katherine', 'James', 'Emily', 'Michael', 'Matthew', 'Laura', 'Kevin', 'Jonas'], 'score': [12.5, 9, 16.5, np.nan, 9, 20, 14.5, np.nan, 8, 19], 'attempts': [1, 3, 2, 3, 2, 3, 1, 1, 2, 1],'qualify': ['yes', 'no', 'yes', 'no', 'no', 'yes', 'yes', 'no', 'no', 'yes']}\n",
        "labels = ['a', 'b', 'c', 'd', 'e', 'f', 'g', 'h', 'i', 'j']\n",
        "df = pd.DataFrame(exam_data, index = labels)\n",
        "print(df)\n",
        "df = df.sort_values(by = ['name', 'score'], ascending = [False, True])\n",
        "print(\"Sort the DataFrame first by 'name' in descending order, then by 'score' in ascending order:\")\n",
        "print(df)"
      ],
      "metadata": {
        "id": "IhtJF0xd64FX",
        "colab": {
          "base_uri": "https://localhost:8080/"
        },
        "outputId": "b77d2108-8d6f-42af-8d53-a86a5041a46d"
      },
      "execution_count": null,
      "outputs": [
        {
          "output_type": "stream",
          "name": "stdout",
          "text": [
            "        name  score  attempts qualify\n",
            "a  Anastasia   12.5         1     yes\n",
            "b       Dima    9.0         3      no\n",
            "c  Katherine   16.5         2     yes\n",
            "d      James    NaN         3      no\n",
            "e      Emily    9.0         2      no\n",
            "f    Michael   20.0         3     yes\n",
            "g    Matthew   14.5         1     yes\n",
            "h      Laura    NaN         1      no\n",
            "i      Kevin    8.0         2      no\n",
            "j      Jonas   19.0         1     yes\n",
            "Sort the DataFrame first by 'name' in descending order, then by 'score' in ascending order:\n",
            "        name  score  attempts qualify\n",
            "f    Michael   20.0         3     yes\n",
            "g    Matthew   14.5         1     yes\n",
            "h      Laura    NaN         1      no\n",
            "i      Kevin    8.0         2      no\n",
            "c  Katherine   16.5         2     yes\n",
            "j      Jonas   19.0         1     yes\n",
            "d      James    NaN         3      no\n",
            "e      Emily    9.0         2      no\n",
            "b       Dima    9.0         3      no\n",
            "a  Anastasia   12.5         1     yes\n"
          ]
        }
      ]
    },
    {
      "cell_type": "markdown",
      "source": [
        "17. Write a Pandas program to replace the 'qualify' column contains the\n",
        "values 'yes' and 'no' with True and False.\n",
        "Sample Python dictionary data and list labels:\n",
        "exam_data = {'name': ['Anastasia', 'Dima', 'Katherine', 'James', 'Emily',\n",
        "'Michael', 'Matthew', 'Laura', 'Kevin', 'Jonas'],\n",
        "'score': [12.5, 9, 16.5, np.nan, 9, 20, 14.5, np.nan, 8, 19],\n",
        "'attempts': [1, 3, 2, 3, 2, 3, 1, 1, 2, 1],\n",
        "'qualify': ['yes', 'no', 'yes', 'no', 'no', 'yes', 'yes', 'no', 'no', 'yes']}\n",
        "labels = ['a', 'b', 'c', 'd', 'e', 'f', 'g', 'h', 'i', 'j']\n"
      ],
      "metadata": {
        "id": "301f7cUh2XGm"
      }
    },
    {
      "cell_type": "code",
      "source": [
        "import pandas as pd\n",
        "import numpy as np\n",
        "exam_data = {'name':['Anastasia', 'Dima', 'Katherine', 'James', 'Emily', 'Michael', 'Matthew', 'Laura', 'Kevin', 'Jonas'], 'score': [12.5, 9, 16.5, np.nan, 9, 20, 14.5, np.nan, 8, 19], 'attempts': [1, 3, 2, 3, 2, 3, 1, 1, 2, 1],'qualify': ['yes', 'no', 'yes', 'no', 'no', 'yes', 'yes', 'no', 'no', 'yes']}\n",
        "labels = ['a', 'b', 'c', 'd', 'e', 'f', 'g', 'h', 'i', 'j']\n",
        "df = pd.DataFrame(exam_data, index = labels)\n",
        "print(df)\n",
        "print(\"Replacing 'yes' & 'no' with 'True' & 'False':\")\n",
        "df['qualify'] = df['qualify'].map({'yes':True, 'no':False})\n",
        "print(df)"
      ],
      "metadata": {
        "id": "gp_NR6Kj63Wx",
        "colab": {
          "base_uri": "https://localhost:8080/"
        },
        "outputId": "433ebeef-f137-410c-b3b6-679e65e72367"
      },
      "execution_count": null,
      "outputs": [
        {
          "output_type": "stream",
          "name": "stdout",
          "text": [
            "        name  score  attempts qualify\n",
            "a  Anastasia   12.5         1     yes\n",
            "b       Dima    9.0         3      no\n",
            "c  Katherine   16.5         2     yes\n",
            "d      James    NaN         3      no\n",
            "e      Emily    9.0         2      no\n",
            "f    Michael   20.0         3     yes\n",
            "g    Matthew   14.5         1     yes\n",
            "h      Laura    NaN         1      no\n",
            "i      Kevin    8.0         2      no\n",
            "j      Jonas   19.0         1     yes\n",
            "Replacing 'yes' & 'no' with 'True' & 'False':\n",
            "        name  score  attempts  qualify\n",
            "a  Anastasia   12.5         1     True\n",
            "b       Dima    9.0         3    False\n",
            "c  Katherine   16.5         2     True\n",
            "d      James    NaN         3    False\n",
            "e      Emily    9.0         2    False\n",
            "f    Michael   20.0         3     True\n",
            "g    Matthew   14.5         1     True\n",
            "h      Laura    NaN         1    False\n",
            "i      Kevin    8.0         2    False\n",
            "j      Jonas   19.0         1     True\n"
          ]
        }
      ]
    },
    {
      "cell_type": "markdown",
      "source": [
        "18. Write a Pandas program to change the name 'James' to 'Suresh' in name\n",
        "column of the DataFrame.\n",
        "Sample Python dictionary data and list labels:\n",
        "exam_data = {'name': ['Anastasia', 'Dima', 'Katherine', 'James', 'Emily',\n",
        "'Michael', 'Matthew', 'Laura', 'Kevin', 'Jonas'],\n",
        "'score': [12.5, 9, 16.5, np.nan, 9, 20, 14.5, np.nan, 8, 19],\n",
        "'attempts': [1, 3, 2, 3, 2, 3, 1, 1, 2, 1],\n",
        "'qualify': ['yes', 'no', 'yes', 'no', 'no', 'yes', 'yes', 'no', 'no', 'yes']}\n",
        "labels = ['a', 'b', 'c', 'd', 'e', 'f', 'g', 'h', 'i', 'j']\n"
      ],
      "metadata": {
        "id": "jthA4JJs2dkQ"
      }
    },
    {
      "cell_type": "code",
      "source": [
        "import pandas as pd\n",
        "import numpy as np\n",
        "exam_data = {'name':['Anastasia', 'Dima', 'Katherine', 'James', 'Emily', 'Michael', 'Matthew', 'Laura', 'Kevin', 'Jonas'], 'score': [12.5, 9, 16.5, np.nan, 9, 20, 14.5, np.nan, 8, 19], 'attempts': [1, 3, 2, 3, 2, 3, 1, 1, 2, 1],'qualify': ['yes', 'no', 'yes', 'no', 'no', 'yes', 'yes', 'no', 'no', 'yes']}\n",
        "labels = ['a', 'b', 'c', 'd', 'e', 'f', 'g', 'h', 'i', 'j']\n",
        "df = pd.DataFrame(exam_data, index = labels)\n",
        "print(df)\n",
        "print(\"Replaced Name:\")\n",
        "df['name'] = df['name'].replace('James','Suresh')\n",
        "print(df)"
      ],
      "metadata": {
        "id": "dX4WFSWQ62nc",
        "colab": {
          "base_uri": "https://localhost:8080/"
        },
        "outputId": "c1f6ff31-579e-4607-8273-66abb646c42b"
      },
      "execution_count": null,
      "outputs": [
        {
          "output_type": "stream",
          "name": "stdout",
          "text": [
            "        name  score  attempts qualify\n",
            "a  Anastasia   12.5         1     yes\n",
            "b       Dima    9.0         3      no\n",
            "c  Katherine   16.5         2     yes\n",
            "d      James    NaN         3      no\n",
            "e      Emily    9.0         2      no\n",
            "f    Michael   20.0         3     yes\n",
            "g    Matthew   14.5         1     yes\n",
            "h      Laura    NaN         1      no\n",
            "i      Kevin    8.0         2      no\n",
            "j      Jonas   19.0         1     yes\n",
            "Replaced Name:\n",
            "        name  score  attempts qualify\n",
            "a  Anastasia   12.5         1     yes\n",
            "b       Dima    9.0         3      no\n",
            "c  Katherine   16.5         2     yes\n",
            "d     Suresh    NaN         3      no\n",
            "e      Emily    9.0         2      no\n",
            "f    Michael   20.0         3     yes\n",
            "g    Matthew   14.5         1     yes\n",
            "h      Laura    NaN         1      no\n",
            "i      Kevin    8.0         2      no\n",
            "j      Jonas   19.0         1     yes\n"
          ]
        }
      ]
    },
    {
      "cell_type": "markdown",
      "source": [
        "19. Write a Pandas program to delete the 'attempts' column from the\n",
        "DataFrame.\n",
        "Sample Python dictionary data and list labels:\n",
        "exam_data = {'name': ['Anastasia', 'Dima', 'Katherine', 'James', 'Emily',\n",
        "'Michael', 'Matthew', 'Laura', 'Kevin', 'Jonas'],\n",
        "'score': [12.5, 9, 16.5, np.nan, 9, 20, 14.5, np.nan, 8, 19],\n",
        "'attempts': [1, 3, 2, 3, 2, 3, 1, 1, 2, 1],\n",
        "'qualify': ['yes', 'no', 'yes', 'no', 'no', 'yes', 'yes', 'no', 'no', 'yes']}\n",
        "labels = ['a', 'b', 'c', 'd', 'e', 'f', 'g', 'h', 'i', 'j']\n"
      ],
      "metadata": {
        "id": "lAZkRW4w2g1v"
      }
    },
    {
      "cell_type": "code",
      "source": [
        "import pandas as pd\n",
        "import numpy as np\n",
        "exam_data = {'name':['Anastasia', 'Dima', 'Katherine', 'James', 'Emily', 'Michael', 'Matthew', 'Laura', 'Kevin', 'Jonas'], 'score': [12.5, 9, 16.5, np.nan, 9, 20, 14.5, np.nan, 8, 19], 'attempts': [1, 3, 2, 3, 2, 3, 1, 1, 2, 1],'qualify': ['yes', 'no', 'yes', 'no', 'no', 'yes', 'yes', 'no', 'no', 'yes']}\n",
        "labels = ['a', 'b', 'c', 'd', 'e', 'f', 'g', 'h', 'i', 'j']\n",
        "df = pd.DataFrame(exam_data, index = labels)\n",
        "print(df)\n",
        "df.pop('attempts')\n",
        "print(df)"
      ],
      "metadata": {
        "id": "SxKNL4en612L",
        "colab": {
          "base_uri": "https://localhost:8080/"
        },
        "outputId": "f1d3cb7a-1688-403c-cfb3-ec43a9d2e39d"
      },
      "execution_count": null,
      "outputs": [
        {
          "output_type": "stream",
          "name": "stdout",
          "text": [
            "        name  score  attempts qualify\n",
            "a  Anastasia   12.5         1     yes\n",
            "b       Dima    9.0         3      no\n",
            "c  Katherine   16.5         2     yes\n",
            "d      James    NaN         3      no\n",
            "e      Emily    9.0         2      no\n",
            "f    Michael   20.0         3     yes\n",
            "g    Matthew   14.5         1     yes\n",
            "h      Laura    NaN         1      no\n",
            "i      Kevin    8.0         2      no\n",
            "j      Jonas   19.0         1     yes\n",
            "        name  score qualify\n",
            "a  Anastasia   12.5     yes\n",
            "b       Dima    9.0      no\n",
            "c  Katherine   16.5     yes\n",
            "d      James    NaN      no\n",
            "e      Emily    9.0      no\n",
            "f    Michael   20.0     yes\n",
            "g    Matthew   14.5     yes\n",
            "h      Laura    NaN      no\n",
            "i      Kevin    8.0      no\n",
            "j      Jonas   19.0     yes\n"
          ]
        }
      ]
    },
    {
      "cell_type": "markdown",
      "source": [
        "20. Write a Pandas program to insert a new column in existing DataFrame.\n",
        "Sample Python dictionary data and list labels:\n",
        "exam_data = {'name': ['Anastasia', 'Dima', 'Katherine', 'James', 'Emily',\n",
        "'Michael', 'Matthew', 'Laura', 'Kevin', 'Jonas'],\n",
        "'score': [12.5, 9, 16.5, np.nan, 9, 20, 14.5, np.nan, 8, 19],\n",
        "'attempts': [1, 3, 2, 3, 2, 3, 1, 1, 2, 1],\n",
        "'qualify': ['yes', 'no', 'yes', 'no', 'no', 'yes', 'yes', 'no', 'no', 'yes']}\n",
        "labels = ['a', 'b', 'c', 'd', 'e', 'f', 'g', 'h', 'i', 'j']\n"
      ],
      "metadata": {
        "id": "c_5HQkbC2lxb"
      }
    },
    {
      "cell_type": "code",
      "source": [
        "import pandas as pd\n",
        "import numpy as np\n",
        "exam_data = {'name':['Anastasia', 'Dima', 'Katherine', 'James', 'Emily', 'Michael', 'Matthew', 'Laura', 'Kevin', 'Jonas'], 'score': [12.5, 9, 16.5, np.nan, 9, 20, 14.5, np.nan, 8, 19], 'attempts': [1, 3, 2, 3, 2, 3, 1, 1, 2, 1],'qualify': ['yes', 'no', 'yes', 'no', 'no', 'yes', 'yes', 'no', 'no', 'yes']}\n",
        "labels = ['a', 'b', 'c', 'd', 'e', 'f', 'g', 'h', 'i', 'j']\n",
        "df = pd.DataFrame(exam_data, index = labels)\n",
        "print(df)\n",
        "col = ['c1', 'c2', 'c3', 'c4', 'c5', 'c6', 'c7', 'c8', 'c9', 'c10']\n",
        "df['column'] = col\n",
        "print(df)"
      ],
      "metadata": {
        "id": "7Way2HQc60QY",
        "colab": {
          "base_uri": "https://localhost:8080/"
        },
        "outputId": "631f1f07-3e65-4568-9839-5ea1acafed37"
      },
      "execution_count": null,
      "outputs": [
        {
          "output_type": "stream",
          "name": "stdout",
          "text": [
            "        name  score  attempts qualify\n",
            "a  Anastasia   12.5         1     yes\n",
            "b       Dima    9.0         3      no\n",
            "c  Katherine   16.5         2     yes\n",
            "d      James    NaN         3      no\n",
            "e      Emily    9.0         2      no\n",
            "f    Michael   20.0         3     yes\n",
            "g    Matthew   14.5         1     yes\n",
            "h      Laura    NaN         1      no\n",
            "i      Kevin    8.0         2      no\n",
            "j      Jonas   19.0         1     yes\n",
            "        name  score  attempts qualify column\n",
            "a  Anastasia   12.5         1     yes     c1\n",
            "b       Dima    9.0         3      no     c2\n",
            "c  Katherine   16.5         2     yes     c3\n",
            "d      James    NaN         3      no     c4\n",
            "e      Emily    9.0         2      no     c5\n",
            "f    Michael   20.0         3     yes     c6\n",
            "g    Matthew   14.5         1     yes     c7\n",
            "h      Laura    NaN         1      no     c8\n",
            "i      Kevin    8.0         2      no     c9\n",
            "j      Jonas   19.0         1     yes    c10\n"
          ]
        }
      ]
    },
    {
      "cell_type": "markdown",
      "source": [
        "21. Write a Pandas program to iterate over rows in a DataFrame.\n",
        "Sample Python dictionary data and list labels:\n",
        "exam_data = [{'name':'Anastasia', 'score':12.5}, {'name':'Dima','score':9},\n",
        "{'name':'Katherine','score':16.5}]\n"
      ],
      "metadata": {
        "id": "apRzsPSO2tMT"
      }
    },
    {
      "cell_type": "code",
      "source": [
        "import pandas as pd\n",
        "import numpy as np\n",
        "exam_data = {'name':'Anastasia', 'score':12.5}, {'name':'Dima','score':9}, {'name':'Katherine','score':16.5}\n",
        "df = pd.DataFrame(exam_data)\n",
        "for index , row in df.iterrows():\n",
        "  print(row['name'], row['score'])"
      ],
      "metadata": {
        "id": "fsfIpb2n6zpa",
        "colab": {
          "base_uri": "https://localhost:8080/"
        },
        "outputId": "0bd6bfb9-8519-460b-c96c-6cea9f595e51"
      },
      "execution_count": null,
      "outputs": [
        {
          "output_type": "stream",
          "name": "stdout",
          "text": [
            "Anastasia 12.5\n",
            "Dima 9.0\n",
            "Katherine 16.5\n"
          ]
        }
      ]
    },
    {
      "cell_type": "markdown",
      "source": [
        "22. Write a Pandas program to get list from DataFrame column headers.\n",
        "Sample Python dictionary data and list labels:\n",
        "exam_data = {'name': ['Anastasia', 'Dima', 'Katherine', 'James', 'Emily',\n",
        "'Michael', 'Matthew', 'Laura', 'Kevin', 'Jonas'],\n",
        "'score': [12.5, 9, 16.5, np.nan, 9, 20, 14.5, np.nan, 8, 19],\n",
        "'attempts': [1, 3, 2, 3, 2, 3, 1, 1, 2, 1],\n",
        "'qualify': ['yes', 'no', 'yes', 'no', 'no', 'yes', 'yes', 'no', 'no', 'yes']}\n",
        "labels = ['a', 'b', 'c', 'd', 'e', 'f', 'g', 'h', 'i', 'j']"
      ],
      "metadata": {
        "id": "CqESO2Rd2uOb"
      }
    },
    {
      "cell_type": "code",
      "source": [
        "import pandas as pd\n",
        "import numpy as np\n",
        "exam_data = {'name':['Anastasia', 'Dima', 'Katherine', 'James', 'Emily', 'Michael', 'Matthew', 'Laura', 'Kevin', 'Jonas'], 'score': [12.5, 9, 16.5, np.nan, 9, 20, 14.5, np.nan, 8, 19], 'attempts': [1, 3, 2, 3, 2, 3, 1, 1, 2, 1],'qualify': ['yes', 'no', 'yes', 'no', 'no', 'yes', 'yes', 'no', 'no', 'yes']}\n",
        "labels = ['a', 'b', 'c', 'd', 'e', 'f', 'g', 'h', 'i', 'j']\n",
        "df = pd.DataFrame(exam_data, index = labels)\n",
        "print(list(list(df.columns.values)))"
      ],
      "metadata": {
        "id": "__NLDcuD6y7N",
        "colab": {
          "base_uri": "https://localhost:8080/"
        },
        "outputId": "ddd14902-cb56-422a-b2b7-cd309ccc2eaf"
      },
      "execution_count": null,
      "outputs": [
        {
          "output_type": "stream",
          "name": "stdout",
          "text": [
            "['name', 'score', 'attempts', 'qualify']\n"
          ]
        }
      ]
    },
    {
      "cell_type": "markdown",
      "source": [
        "23. Write a Pandas program to rename columns of a given DataFrame"
      ],
      "metadata": {
        "id": "fqyH_7dy2y4P"
      }
    },
    {
      "cell_type": "code",
      "source": [
        "import pandas as pd\n",
        "d = {'c1':[1,2,3], 'c2':[4,5,6], 'c3':[7,8,9]}\n",
        "df = pd.DataFrame(d)\n",
        "print(df)\n",
        "df.columns = ['col1', 'col2', 'col3']\n",
        "df = df.rename(columns = {'c1':'col1', 'c2':'col2', 'c3':'col3'})\n",
        "print(\"Renaming Columns:\")\n",
        "print(df)"
      ],
      "metadata": {
        "id": "6zHr0Nr66yDh",
        "colab": {
          "base_uri": "https://localhost:8080/"
        },
        "outputId": "5f2b9e92-092e-47ea-eed3-46dd397df912"
      },
      "execution_count": null,
      "outputs": [
        {
          "output_type": "stream",
          "name": "stdout",
          "text": [
            "   c1  c2  c3\n",
            "0   1   4   7\n",
            "1   2   5   8\n",
            "2   3   6   9\n",
            "Renaming Columns:\n",
            "   col1  col2  col3\n",
            "0     1     4     7\n",
            "1     2     5     8\n",
            "2     3     6     9\n"
          ]
        }
      ]
    },
    {
      "cell_type": "markdown",
      "source": [
        "24. Write a Pandas program to select rows from a given DataFrame based on\n",
        "values in some columns."
      ],
      "metadata": {
        "id": "mCZtnH6E22l-"
      }
    },
    {
      "cell_type": "code",
      "source": [
        "import pandas as pd\n",
        "import numpy as np\n",
        "d = {'c1':[7,2,8,4,5], 'c2':[4,5,6,5,8], 'c3':[2,8,9,0,1]}\n",
        "df = pd.DataFrame(d)\n",
        "print(df)\n",
        "print(\"Rows from c2 value == 5\")\n",
        "print(df.loc[df['c2'] == 5])"
      ],
      "metadata": {
        "id": "6n338D496xLW",
        "colab": {
          "base_uri": "https://localhost:8080/"
        },
        "outputId": "e1883f66-8094-4058-d916-ec5b72d770fb"
      },
      "execution_count": null,
      "outputs": [
        {
          "output_type": "stream",
          "name": "stdout",
          "text": [
            "   c1  c2  c3\n",
            "0   7   4   2\n",
            "1   2   5   8\n",
            "2   8   6   9\n",
            "3   4   5   0\n",
            "4   5   8   1\n",
            "Rows from c2 value == 5\n",
            "   c1  c2  c3\n",
            "1   2   5   8\n",
            "3   4   5   0\n"
          ]
        }
      ]
    },
    {
      "cell_type": "markdown",
      "source": [
        "25. Write a Pandas program to change the order of a DataFrame columns."
      ],
      "metadata": {
        "id": "5Ab4-FT625LH"
      }
    },
    {
      "cell_type": "code",
      "source": [
        "import pandas as pd\n",
        "import numpy as np\n",
        "d = {'c1':[7,2,8,4,5], 'c2':[4,5,6,5,8], 'c3':[2,8,9,0,1]}\n",
        "df = pd.DataFrame(d)\n",
        "print(df)\n",
        "print(\"Changing the order of DataFrame:\")\n",
        "df = df[['c3', 'c2', 'c1']]\n",
        "print(df)"
      ],
      "metadata": {
        "id": "6WOll-YC6vQz",
        "colab": {
          "base_uri": "https://localhost:8080/"
        },
        "outputId": "ad0f675d-ecb7-4d76-dae2-da8817a70856"
      },
      "execution_count": null,
      "outputs": [
        {
          "output_type": "stream",
          "name": "stdout",
          "text": [
            "   c1  c2  c3\n",
            "0   7   4   2\n",
            "1   2   5   8\n",
            "2   8   6   9\n",
            "3   4   5   0\n",
            "4   5   8   1\n",
            "Changing the order of DataFrame:\n",
            "   c3  c2  c1\n",
            "0   2   4   7\n",
            "1   8   5   2\n",
            "2   9   6   8\n",
            "3   0   5   4\n",
            "4   1   8   5\n"
          ]
        }
      ]
    },
    {
      "cell_type": "markdown",
      "source": [
        "**Pandas String Operations:t**"
      ],
      "metadata": {
        "id": "AwYfnM6S27lQ"
      }
    },
    {
      "cell_type": "markdown",
      "source": [
        "1. Write a Pandas program to convert all the string values to upper, lower\n",
        "cases in a given pandas series. Also find the length of the string values.\n"
      ],
      "metadata": {
        "id": "HX8OQgov27uy"
      }
    },
    {
      "cell_type": "code",
      "source": [
        "import pandas as pd\n",
        "s = pd.Series(['World', 'Peace', 'University'])\n",
        "print(s)\n",
        "print(s.str.upper())\n",
        "print(s.str.lower())\n",
        "print(s.str.len())"
      ],
      "metadata": {
        "id": "aFcGSu1a6sLT",
        "colab": {
          "base_uri": "https://localhost:8080/"
        },
        "outputId": "02cff697-bcb3-4b64-95f3-070827b323af"
      },
      "execution_count": null,
      "outputs": [
        {
          "output_type": "stream",
          "name": "stdout",
          "text": [
            "0         World\n",
            "1         Peace\n",
            "2    University\n",
            "dtype: object\n",
            "0         WORLD\n",
            "1         PEACE\n",
            "2    UNIVERSITY\n",
            "dtype: object\n",
            "0         world\n",
            "1         peace\n",
            "2    university\n",
            "dtype: object\n",
            "0     5\n",
            "1     5\n",
            "2    10\n",
            "dtype: int64\n"
          ]
        }
      ]
    },
    {
      "cell_type": "markdown",
      "source": [
        "2. Write a Pandas program to remove whitespaces, left sided whitespaces\n",
        "and right sided whitespaces of the string values of a given pandas series."
      ],
      "metadata": {
        "id": "7YPj4lM13KUP"
      }
    },
    {
      "cell_type": "code",
      "source": [
        "import pandas as pd\n",
        "s = pd.Series(['World ', ' Peace ', ' University'])\n",
        "print(s)\n",
        "print(s.str.strip())\n",
        "print(s.str.rstrip())\n",
        "print(s.str.lstrip())"
      ],
      "metadata": {
        "id": "vSjyL3yP6rX2",
        "colab": {
          "base_uri": "https://localhost:8080/"
        },
        "outputId": "139e17cc-4040-4af4-e484-27a15f224773"
      },
      "execution_count": null,
      "outputs": [
        {
          "output_type": "stream",
          "name": "stdout",
          "text": [
            "0         World \n",
            "1         Peace \n",
            "2     University\n",
            "dtype: object\n",
            "0         World\n",
            "1         Peace\n",
            "2    University\n",
            "dtype: object\n",
            "0          World\n",
            "1          Peace\n",
            "2     University\n",
            "dtype: object\n",
            "0        World \n",
            "1        Peace \n",
            "2    University\n",
            "dtype: object\n"
          ]
        }
      ]
    },
    {
      "cell_type": "markdown",
      "source": [
        "3. Write a Pandas program to add leading zeros to the integer column in a\n",
        "pandas series and makes the length of the field to 8 digit.\n"
      ],
      "metadata": {
        "id": "b0x8CvKL3SmE"
      }
    },
    {
      "cell_type": "code",
      "source": [
        "import pandas as pd\n",
        "no = {'amount': [10, 100, 100, 1000]}\n",
        "df = pd.DataFrame(no)\n",
        "print(df)\n",
        "print(\"\\nAdd Leading Zeros;\")\n",
        "df['amount'] = df['amount'].apply(lambda x: '{0:0>8}'.format(x))\n",
        "print(df)"
      ],
      "metadata": {
        "id": "CHDq8t5W6qiv",
        "colab": {
          "base_uri": "https://localhost:8080/"
        },
        "outputId": "094f1a47-49ea-4303-c3e6-5c5ef6a7f243"
      },
      "execution_count": null,
      "outputs": [
        {
          "output_type": "stream",
          "name": "stdout",
          "text": [
            "   amount\n",
            "0      10\n",
            "1     100\n",
            "2     100\n",
            "3    1000\n",
            "\n",
            "Add Leading Zeros;\n",
            "     amount\n",
            "0  00000010\n",
            "1  00000100\n",
            "2  00000100\n",
            "3  00001000\n"
          ]
        }
      ]
    },
    {
      "cell_type": "markdown",
      "source": [
        "4. Write a Pandas program to add leading zeros to the character column in a\n",
        "pandas series and makes the length of the field to 8 digit.\n"
      ],
      "metadata": {
        "id": "rNxvuNfI3Vq4"
      }
    },
    {
      "cell_type": "code",
      "source": [
        "import pandas as pd\n",
        "no = {'amount': [10, 100, 100, 1000]}\n",
        "df = pd.DataFrame(no)\n",
        "print(df)\n",
        "print(\"\\nAdd Leading Zeros;\")\n",
        "df['amount'] = df['amount'].astype(str).str.zfill(8)\n",
        "print(df)"
      ],
      "metadata": {
        "id": "kepqQ2qC6pr_",
        "colab": {
          "base_uri": "https://localhost:8080/"
        },
        "outputId": "683cfcbf-0e81-4401-a1c4-ee3ebb172675"
      },
      "execution_count": null,
      "outputs": [
        {
          "output_type": "stream",
          "name": "stdout",
          "text": [
            "   amount\n",
            "0      10\n",
            "1     100\n",
            "2     100\n",
            "3    1000\n",
            "\n",
            "Add Leading Zeros;\n",
            "     amount\n",
            "0  00000010\n",
            "1  00000100\n",
            "2  00000100\n",
            "3  00001000\n"
          ]
        }
      ]
    },
    {
      "cell_type": "markdown",
      "source": [
        "5. Write a Pandas program to capitalize all the string values of specified\n",
        "columns of a given DataFrame."
      ],
      "metadata": {
        "id": "GSK8TcmF3aX-"
      }
    },
    {
      "cell_type": "code",
      "source": [
        "import pandas as pd\n",
        "df = pd.DataFrame({'name': ['dhoni', 'virat', 'rohit'], 'jersey': [7, 18, 45]})\n",
        "print(df)\n",
        "print(\"\\nCapitalizing name column:\")\n",
        "df['name'] = list(map(lambda x: x.capitalize(), df['name']))\n",
        "print(df)"
      ],
      "metadata": {
        "id": "F2idWt856ZpP",
        "colab": {
          "base_uri": "https://localhost:8080/"
        },
        "outputId": "f39ae4d9-e55c-4233-d132-588aa863482c"
      },
      "execution_count": null,
      "outputs": [
        {
          "output_type": "stream",
          "name": "stdout",
          "text": [
            "    name  jersey\n",
            "0  dhoni       7\n",
            "1  virat      18\n",
            "2  rohit      45\n",
            "\n",
            "Capitalizing name column:\n",
            "    name  jersey\n",
            "0  Dhoni       7\n",
            "1  Virat      18\n",
            "2  Rohit      45\n"
          ]
        }
      ]
    },
    {
      "cell_type": "markdown",
      "source": [
        "6. Write a Pandas program to count of occurrence of a specified substring in a\n",
        "DataFrame column."
      ],
      "metadata": {
        "id": "ZxhYelvX3d7d"
      }
    },
    {
      "cell_type": "code",
      "source": [
        "import pandas as pd\n",
        "df = pd.DataFrame({'name': ['dhoni', 'virat', 'rohit'], 'jersey': [7, 18, 45]})\n",
        "print(df)\n",
        "print(\"\\nCounting occurence of 't' in name column:\")\n",
        "df['count'] = list(map(lambda x: x.count(\"t\"), df['name']))\n",
        "print(df)"
      ],
      "metadata": {
        "id": "Uibrjfdp6YsZ",
        "colab": {
          "base_uri": "https://localhost:8080/"
        },
        "outputId": "c771336e-8fa4-45ab-9e80-d498201d5dee"
      },
      "execution_count": null,
      "outputs": [
        {
          "output_type": "stream",
          "name": "stdout",
          "text": [
            "    name  jersey\n",
            "0  dhoni       7\n",
            "1  virat      18\n",
            "2  rohit      45\n",
            "\n",
            "Counting occurence of 't' in name column:\n",
            "    name  jersey  count\n",
            "0  dhoni       7      0\n",
            "1  virat      18      1\n",
            "2  rohit      45      1\n"
          ]
        }
      ]
    },
    {
      "cell_type": "markdown",
      "source": [
        "7. Write a Pandas program to find the index of a given substring of a\n",
        "DataFrame column."
      ],
      "metadata": {
        "id": "XEPY_w8i3f9i"
      }
    },
    {
      "cell_type": "code",
      "source": [
        "import pandas as pd\n",
        "df = pd.DataFrame({'name': ['dhoni', 'virat', 'rohit'], 'jersey': [7, 18, 45]})\n",
        "print(df)\n",
        "print(\"\\nFinding the index of 'i' in name column:\")\n",
        "df['index'] = list(map(lambda x: x.find(\"i\"), df['name']))\n",
        "print(df)"
      ],
      "metadata": {
        "id": "OHbpHgf76XDj",
        "colab": {
          "base_uri": "https://localhost:8080/"
        },
        "outputId": "44f0ab99-2728-4c9f-b37d-e209baf466df"
      },
      "execution_count": null,
      "outputs": [
        {
          "output_type": "stream",
          "name": "stdout",
          "text": [
            "    name  jersey\n",
            "0  dhoni       7\n",
            "1  virat      18\n",
            "2  rohit      45\n",
            "\n",
            "Finding the index of 'i' in name column:\n",
            "    name  jersey  index\n",
            "0  dhoni       7      4\n",
            "1  virat      18      1\n",
            "2  rohit      45      3\n"
          ]
        }
      ]
    },
    {
      "cell_type": "markdown",
      "source": [
        "8. Write a Pandas program to find the index of a substring of DataFrame with\n",
        "beginning and end position."
      ],
      "metadata": {
        "id": "zaNZY3eL3isX"
      }
    },
    {
      "cell_type": "code",
      "source": [
        "import pandas as pd\n",
        "df = pd.DataFrame({'name': ['dhoni', 'virat', 'rohit'], 'jersey': [7, 18, 45]})\n",
        "print(df)\n",
        "df['index'] = list(map(lambda x: x.find(\"i\", 0, 5), df['name']))\n",
        "print(df)"
      ],
      "metadata": {
        "id": "-BG6eJyt6WY0",
        "colab": {
          "base_uri": "https://localhost:8080/"
        },
        "outputId": "6df4192f-729b-4bc1-fc43-aa3181a0cd0c"
      },
      "execution_count": null,
      "outputs": [
        {
          "output_type": "stream",
          "name": "stdout",
          "text": [
            "    name  jersey\n",
            "0  dhoni       7\n",
            "1  virat      18\n",
            "2  rohit      45\n",
            "    name  jersey  index\n",
            "0  dhoni       7      4\n",
            "1  virat      18      1\n",
            "2  rohit      45      3\n"
          ]
        }
      ]
    },
    {
      "cell_type": "markdown",
      "source": [
        "9. Write a Pandas program to check whether alpha numeric values present in\n",
        "a given column of a DataFrame.\n",
        "Note: isalnum() function returns True if all characters in the string are\n",
        "alphanumeric and there is at least one character, False otherwise."
      ],
      "metadata": {
        "id": "kBS3Jeg_3lWv"
      }
    },
    {
      "cell_type": "code",
      "source": [
        "import pandas as pd\n",
        "df = pd.DataFrame({'name': ['dhoni 07thala', 'virat', 'rohit 45'], 'jersey': [7, 18, 45]})\n",
        "print(df)\n",
        "print(\"\\nWheather all characters in the string are alpha numeric:\")\n",
        "df['name_is_alphanumeric'] = list(map(lambda x: x.isalnum(), df['name']))\n",
        "print(df)"
      ],
      "metadata": {
        "id": "lAZvL3rY6Vwr",
        "colab": {
          "base_uri": "https://localhost:8080/"
        },
        "outputId": "9fde15c1-4cd8-4001-bf5c-4c9930df2197"
      },
      "execution_count": null,
      "outputs": [
        {
          "output_type": "stream",
          "name": "stdout",
          "text": [
            "            name  jersey\n",
            "0  dhoni 07thala       7\n",
            "1          virat      18\n",
            "2       rohit 45      45\n",
            "\n",
            "Wheather all characters in the string are alpha numeric:\n",
            "            name  jersey  name_is_alphanumeric\n",
            "0  dhoni 07thala       7                 False\n",
            "1          virat      18                  True\n",
            "2       rohit 45      45                 False\n"
          ]
        }
      ]
    },
    {
      "cell_type": "markdown",
      "source": [
        "10. Write a Pandas program to check whether alphabetic values present in a\n",
        "given column of a DataFrame.\n",
        "Note: isalpha() returns True if all characters in the string are alphabetic and\n",
        "there is at least one character, False otherwise."
      ],
      "metadata": {
        "id": "xzLTCGXr3pgx"
      }
    },
    {
      "cell_type": "code",
      "source": [
        "import pandas as pd\n",
        "df = pd.DataFrame({'name': ['dhoni 07thala', 'virat', 'rohit 45'], 'jersey': [7, 18, 45]})\n",
        "print(df)\n",
        "print(\"\\nWheather alphabetic values present in name column:\")\n",
        "df['name_is_alpha'] = list(map(lambda x: x.isalpha(), df['name']))\n",
        "print(df)"
      ],
      "metadata": {
        "id": "v14qHrsB6VJK",
        "colab": {
          "base_uri": "https://localhost:8080/"
        },
        "outputId": "8627f9c4-8310-4d06-8bbd-bcd206d2041f"
      },
      "execution_count": null,
      "outputs": [
        {
          "output_type": "stream",
          "name": "stdout",
          "text": [
            "            name  jersey\n",
            "0  dhoni 07thala       7\n",
            "1          virat      18\n",
            "2       rohit 45      45\n",
            "\n",
            "Wheather alphabetic values present in name column:\n",
            "            name  jersey  name_is_alpha\n",
            "0  dhoni 07thala       7          False\n",
            "1          virat      18           True\n",
            "2       rohit 45      45          False\n"
          ]
        }
      ]
    },
    {
      "cell_type": "markdown",
      "source": [
        "11. Write a Pandas program to check whether only numeric values present in\n",
        "a given column of a DataFrame."
      ],
      "metadata": {
        "id": "-4q7Pot73sPb"
      }
    },
    {
      "cell_type": "code",
      "source": [
        "import pandas as pd\n",
        "df = pd.DataFrame({'name': ['dhoni', '18', 'rohit'], 'jersey': [7, 18, 45]})\n",
        "print(df)\n",
        "print(\"\\nWheather numeric values present in name column:\")\n",
        "df['name_is_digit'] = list(map(lambda x: x.isdigit(), df['name']))\n",
        "print(df)"
      ],
      "metadata": {
        "id": "eAtO7DN36Udp",
        "colab": {
          "base_uri": "https://localhost:8080/"
        },
        "outputId": "8b1f16c1-b006-4398-d5b8-33d322f2955b"
      },
      "execution_count": null,
      "outputs": [
        {
          "output_type": "stream",
          "name": "stdout",
          "text": [
            "    name  jersey\n",
            "0  dhoni       7\n",
            "1     18      18\n",
            "2  rohit      45\n",
            "\n",
            "Wheather numeric values present in name column:\n",
            "    name  jersey  name_is_digit\n",
            "0  dhoni       7          False\n",
            "1     18      18           True\n",
            "2  rohit      45          False\n"
          ]
        }
      ]
    },
    {
      "cell_type": "markdown",
      "source": [
        "12. Write a Pandas program to check whether only lower case or upper case\n",
        "is present in a given column of a DataFrame."
      ],
      "metadata": {
        "id": "251mTnOL3vZe"
      }
    },
    {
      "cell_type": "code",
      "source": [
        "import pandas as pd\n",
        "df = pd.DataFrame({'name': ['dhoni', 'virat', 'rohit'], 'jersey': [7, 18, 45]})\n",
        "print(df)\n",
        "print(\"\\nChecking Upper Cases\")\n",
        "df['name_is_upper'] = list(map(lambda x: x.isupper(), df['name']))\n",
        "print(df)\n",
        "print(\"\\nChecking Lower Cases\")\n",
        "df['name_is_lower'] = list(map(lambda x: x.islower(), df['name']))\n",
        "print(df)"
      ],
      "metadata": {
        "id": "FqJ01ieP6S-s",
        "colab": {
          "base_uri": "https://localhost:8080/"
        },
        "outputId": "e0683ac1-5938-4a53-9b69-15cb1494c00e"
      },
      "execution_count": null,
      "outputs": [
        {
          "output_type": "stream",
          "name": "stdout",
          "text": [
            "    name  jersey\n",
            "0  dhoni       7\n",
            "1  virat      18\n",
            "2  rohit      45\n",
            "\n",
            "Checking Upper Cases\n",
            "    name  jersey  name_is_upper\n",
            "0  dhoni       7          False\n",
            "1  virat      18          False\n",
            "2  rohit      45          False\n",
            "\n",
            "Checking Lower Cases\n",
            "    name  jersey  name_is_upper  name_is_lower\n",
            "0  dhoni       7          False           True\n",
            "1  virat      18          False           True\n",
            "2  rohit      45          False           True\n"
          ]
        }
      ]
    },
    {
      "cell_type": "markdown",
      "source": [
        "13. Write a Pandas program to check whether only proper case or title case is\n",
        "present in a given column of a DataFrame.\n"
      ],
      "metadata": {
        "id": "-_-9DIme3yI7"
      }
    },
    {
      "cell_type": "code",
      "source": [
        "import pandas as pd\n",
        "df = pd.DataFrame({'name': ['Dhoni', 'virat', 'rohit'], 'jersey': [7, 18, 45]})\n",
        "print(df)\n",
        "print(\"\\nChecking Title Cases\")\n",
        "df['name_is_title'] = list(map(lambda x: x.istitle(), df['name']))\n",
        "print(df)"
      ],
      "metadata": {
        "id": "j9iRA2sz6SXB",
        "colab": {
          "base_uri": "https://localhost:8080/"
        },
        "outputId": "3e20189c-dda8-4366-8644-ac6da64fe494"
      },
      "execution_count": null,
      "outputs": [
        {
          "output_type": "stream",
          "name": "stdout",
          "text": [
            "    name  jersey\n",
            "0  Dhoni       7\n",
            "1  virat      18\n",
            "2  rohit      45\n",
            "\n",
            "Checking Title Cases\n",
            "    name  jersey  name_is_title\n",
            "0  Dhoni       7           True\n",
            "1  virat      18          False\n",
            "2  rohit      45          False\n"
          ]
        }
      ]
    },
    {
      "cell_type": "markdown",
      "source": [
        "14. Write a Pandas program to check whether only space is present in a given\n",
        "column of a DataFrame."
      ],
      "metadata": {
        "id": "DYCNzDjF31E3"
      }
    },
    {
      "cell_type": "code",
      "source": [
        "import pandas as pd\n",
        "df = pd.DataFrame({'name': ['dhoni', 'virat', 'rohit', ' '], 'jersey': [7, 18, 45, 9]})\n",
        "print(df)\n",
        "print(\"\\nChecking Space\")\n",
        "df['name_is_title'] = list(map(lambda x: x.isspace(), df['name']))\n",
        "print(df)"
      ],
      "metadata": {
        "id": "yMesGejF6R1y",
        "colab": {
          "base_uri": "https://localhost:8080/"
        },
        "outputId": "e41ac4cb-fd04-4648-9df5-ecdb46a61c57"
      },
      "execution_count": null,
      "outputs": [
        {
          "output_type": "stream",
          "name": "stdout",
          "text": [
            "    name  jersey\n",
            "0  dhoni       7\n",
            "1  virat      18\n",
            "2  rohit      45\n",
            "3              9\n",
            "\n",
            "Checking Space\n",
            "    name  jersey  name_is_title\n",
            "0  dhoni       7          False\n",
            "1  virat      18          False\n",
            "2  rohit      45          False\n",
            "3              9           True\n"
          ]
        }
      ]
    },
    {
      "cell_type": "markdown",
      "source": [
        "15. Write a Pandas program to get the length of the string present of a given\n",
        "column in a DataFrame.\n"
      ],
      "metadata": {
        "id": "fUZpJ-p134vR"
      }
    },
    {
      "cell_type": "code",
      "source": [
        "import pandas as pd\n",
        "df = pd.DataFrame({'name': ['Dhoni', 'virat', 'rohit'], 'jersey': [7, 18, 45]})\n",
        "print(df)\n",
        "print(\"\\nGeting lenght of String\")\n",
        "df['name_lenght'] = df['name'].apply(len)\n",
        "print(df)"
      ],
      "metadata": {
        "id": "R_P0waAC6RO5",
        "colab": {
          "base_uri": "https://localhost:8080/"
        },
        "outputId": "43a2efde-b616-437f-c68d-75b8cdf35810"
      },
      "execution_count": null,
      "outputs": [
        {
          "output_type": "stream",
          "name": "stdout",
          "text": [
            "    name  jersey\n",
            "0  Dhoni       7\n",
            "1  virat      18\n",
            "2  rohit      45\n",
            "\n",
            "Geting lenght of String\n",
            "    name  jersey  name_lenght\n",
            "0  Dhoni       7            5\n",
            "1  virat      18            5\n",
            "2  rohit      45            5\n"
          ]
        }
      ]
    },
    {
      "cell_type": "markdown",
      "source": [
        "16. Write a Pandas program to get the length of the integer of a given column\n",
        "in a DataFrame."
      ],
      "metadata": {
        "id": "Wf4EFD6Z37g9"
      }
    },
    {
      "cell_type": "code",
      "source": [
        "import pandas as pd\n",
        "df = pd.DataFrame({'name': ['Dhoni', 'virat', 'rohit'], 'jersey': [7, 18, 45]})\n",
        "print(df)\n",
        "print(\"\\nGeting lenght of Integer\")\n",
        "df['jersey_lenght'] = df['jersey'].map(str).apply(len)\n",
        "print(df)"
      ],
      "metadata": {
        "id": "7KEv2vnv6QlB",
        "colab": {
          "base_uri": "https://localhost:8080/"
        },
        "outputId": "212ae7b4-88f8-4e76-b8a1-3c689b143e81"
      },
      "execution_count": null,
      "outputs": [
        {
          "output_type": "stream",
          "name": "stdout",
          "text": [
            "    name  jersey\n",
            "0  Dhoni       7\n",
            "1  virat      18\n",
            "2  rohit      45\n",
            "\n",
            "Geting lenght of Integer\n",
            "    name  jersey  jersey_lenght\n",
            "0  Dhoni       7              1\n",
            "1  virat      18              2\n",
            "2  rohit      45              2\n"
          ]
        }
      ]
    },
    {
      "cell_type": "markdown",
      "source": [
        "17. Write a Pandas program to check if a specified column starts with a\n",
        "specified string in a DataFrame.\n"
      ],
      "metadata": {
        "id": "Og8BXwzw3-TQ"
      }
    },
    {
      "cell_type": "code",
      "source": [
        "import pandas as pd\n",
        "df = pd.DataFrame({'name': ['dhoni', 'virat', 'rohit'], 'jersey': [7, 18, 45]})\n",
        "print(df)\n",
        "print(\"\\nChecking that specified Column starts with specifiedString\")\n",
        "df['name_lenght'] = list(map(lambda x: x.startswith('d'), df['name']))\n",
        "print(df)"
      ],
      "metadata": {
        "id": "TEipeQvF6P6l",
        "colab": {
          "base_uri": "https://localhost:8080/"
        },
        "outputId": "ec03a740-7b46-4f01-dbad-40a83f0deecf"
      },
      "execution_count": null,
      "outputs": [
        {
          "output_type": "stream",
          "name": "stdout",
          "text": [
            "    name  jersey\n",
            "0  dhoni       7\n",
            "1  virat      18\n",
            "2  rohit      45\n",
            "\n",
            "Checking that specified Column starts with specifiedString\n",
            "    name  jersey  name_lenght\n",
            "0  dhoni       7         True\n",
            "1  virat      18        False\n",
            "2  rohit      45        False\n"
          ]
        }
      ]
    },
    {
      "cell_type": "markdown",
      "source": [
        "18. Write a Pandas program to swap the cases of a specified character\n",
        "column in a given DataFrame."
      ],
      "metadata": {
        "id": "5_LLAaLp4CIe"
      }
    },
    {
      "cell_type": "code",
      "source": [
        "import pandas as pd\n",
        "df = pd.DataFrame({'name': ['dHONi', 'vIRAt', 'rOHIt'], 'jersey': [7, 18, 45]})\n",
        "print(df)\n",
        "print(\"\\nSwapping the cases of a specified character column\")\n",
        "df['name_swapped'] = list(map(lambda x: x.swapcase(), df['name']))\n",
        "print(df)"
      ],
      "metadata": {
        "id": "-ZkYlByB6Ooz",
        "colab": {
          "base_uri": "https://localhost:8080/"
        },
        "outputId": "5842a28c-2632-4d78-f53d-24f0f16d4276"
      },
      "execution_count": null,
      "outputs": [
        {
          "output_type": "stream",
          "name": "stdout",
          "text": [
            "    name  jersey\n",
            "0  dHONi       7\n",
            "1  vIRAt      18\n",
            "2  rOHIt      45\n",
            "\n",
            "Swapping the cases of a specified character column\n",
            "    name  jersey name_swapped\n",
            "0  dHONi       7        DhonI\n",
            "1  vIRAt      18        ViraT\n",
            "2  rOHIt      45        RohiT\n"
          ]
        }
      ]
    },
    {
      "cell_type": "markdown",
      "source": [
        "19. Write a Pandas program to convert a specified character column in\n",
        "upper/lower cases in a given DataFrame."
      ],
      "metadata": {
        "id": "wndGvuYK4Ewu"
      }
    },
    {
      "cell_type": "code",
      "source": [
        "import pandas as pd\n",
        "df = pd.DataFrame({'name': ['Dhoni', 'Virat', 'Rohit'], 'jersey': [7, 18, 45]})\n",
        "print(df)\n",
        "print(\"\\nConverting into Upper Cases\")\n",
        "df['name_upper'] = list(map(lambda x: x.upper(), df['name']))\n",
        "print(df)\n",
        "print(\"\\nConverting into Lower Cases\")\n",
        "df['name_lower'] = list(map(lambda x: x.lower(), df['name']))\n",
        "print(df)"
      ],
      "metadata": {
        "id": "Kj_VZrOE6N7G",
        "colab": {
          "base_uri": "https://localhost:8080/"
        },
        "outputId": "212df24f-5d40-484f-861f-2197bbba7e1f"
      },
      "execution_count": null,
      "outputs": [
        {
          "output_type": "stream",
          "name": "stdout",
          "text": [
            "    name  jersey\n",
            "0  Dhoni       7\n",
            "1  Virat      18\n",
            "2  Rohit      45\n",
            "\n",
            "Converting into Upper Cases\n",
            "    name  jersey name_upper\n",
            "0  Dhoni       7      DHONI\n",
            "1  Virat      18      VIRAT\n",
            "2  Rohit      45      ROHIT\n",
            "\n",
            "Converting into Lower Cases\n",
            "    name  jersey name_upper name_lower\n",
            "0  Dhoni       7      DHONI      dhoni\n",
            "1  Virat      18      VIRAT      virat\n",
            "2  Rohit      45      ROHIT      rohit\n"
          ]
        }
      ]
    },
    {
      "cell_type": "markdown",
      "source": [
        "20. Write a Pandas program to convert a specified character column in title\n",
        "case in a given DataFrame.\n"
      ],
      "metadata": {
        "id": "EDnuf7KK4Hc4"
      }
    },
    {
      "cell_type": "code",
      "source": [
        "import pandas as pd\n",
        "df = pd.DataFrame({'name': ['dhoni', 'virat', 'rohit'], 'jersey': [7, 18, 45]})\n",
        "print(df)\n",
        "print(\"\\nChecking Title Cases\")\n",
        "df['name_is_title_cases'] = list(map(lambda x: x.title(), df['name']))\n",
        "print(df)"
      ],
      "metadata": {
        "id": "a9WoeH8Y6NPa",
        "colab": {
          "base_uri": "https://localhost:8080/"
        },
        "outputId": "e96d697f-9a94-4006-b1d3-4467bd49080f"
      },
      "execution_count": null,
      "outputs": [
        {
          "output_type": "stream",
          "name": "stdout",
          "text": [
            "    name  jersey\n",
            "0  dhoni       7\n",
            "1  virat      18\n",
            "2  rohit      45\n",
            "\n",
            "Checking Title Cases\n",
            "    name  jersey name_is_title_cases\n",
            "0  dhoni       7               Dhoni\n",
            "1  virat      18               Virat\n",
            "2  rohit      45               Rohit\n"
          ]
        }
      ]
    },
    {
      "cell_type": "markdown",
      "source": [
        "21. Write a Pandas program to replace arbitrary values with other values in a\n",
        "given DataFrame."
      ],
      "metadata": {
        "id": "qLGMu3gZ4KfR"
      }
    },
    {
      "cell_type": "code",
      "source": [
        "import pandas as pd\n",
        "df = pd.DataFrame({'name': ['dhoni', 'virat', 'rohit'], 'jersey': [7, 18, 45]})\n",
        "print(df)\n",
        "print(\"\\nReplacing I with Y\")\n",
        "df = list(map(lambda x: x.replace('i', 'y'), df['name']))\n",
        "print(df)"
      ],
      "metadata": {
        "id": "tQ5sks-L6Mgr",
        "colab": {
          "base_uri": "https://localhost:8080/"
        },
        "outputId": "00318f80-6b7f-4b97-9793-43c003a8fff9"
      },
      "execution_count": null,
      "outputs": [
        {
          "output_type": "stream",
          "name": "stdout",
          "text": [
            "    name  jersey\n",
            "0  dhoni       7\n",
            "1  virat      18\n",
            "2  rohit      45\n",
            "\n",
            "Replacing I with Y\n",
            "['dhony', 'vyrat', 'rohyt']\n"
          ]
        }
      ]
    },
    {
      "cell_type": "markdown",
      "source": [
        "22. Write a Pandas program to replace more than one value with other values\n",
        "in a given DataFrame.\n"
      ],
      "metadata": {
        "id": "NHYJztQ-4NLM"
      }
    },
    {
      "cell_type": "code",
      "source": [
        "import pandas as pd\n",
        "df = pd.DataFrame({'name': ['A', 'B', 'C'], 'jersey': [7, 18, 45]})\n",
        "print(df)\n",
        "print(\"\\nReplacing more than one values\")\n",
        "df = df.replace([\"A\", \"C\"], [\"X\", \"Y\"])\n",
        "print(df)"
      ],
      "metadata": {
        "id": "Lpc79M276Ltg",
        "colab": {
          "base_uri": "https://localhost:8080/"
        },
        "outputId": "4ac7f1e5-7b35-4e64-efa1-c38db7f27c75"
      },
      "execution_count": null,
      "outputs": [
        {
          "output_type": "stream",
          "name": "stdout",
          "text": [
            "  name  jersey\n",
            "0    A       7\n",
            "1    B      18\n",
            "2    C      45\n",
            "\n",
            "Replacing more than one values\n",
            "  name  jersey\n",
            "0    X       7\n",
            "1    B      18\n",
            "2    Y      45\n"
          ]
        }
      ]
    },
    {
      "cell_type": "markdown",
      "source": [
        "23. Write a Pandas program to split a string of a column of a given DataFrame\n",
        "into multiple columns.\n"
      ],
      "metadata": {
        "id": "yZ84Xs5V4P88"
      }
    },
    {
      "cell_type": "code",
      "source": [
        "import pandas as pd\n",
        "df = pd.DataFrame({'name': ['MS DHoni', 'Virat Kohli', 'Rohit Sharma'], 'jersey': [7, 18, 45]})\n",
        "print(df)\n",
        "print(\"\\nReplacing I with Y\")\n",
        "df[[\"first\", \"last\"]] = df[\"name\"].str.split(\" \", expand = True)\n",
        "print(df)"
      ],
      "metadata": {
        "id": "QuEPrduR6K0h",
        "colab": {
          "base_uri": "https://localhost:8080/"
        },
        "outputId": "a865da97-61b4-4d83-97ae-969263c4e0e5"
      },
      "execution_count": null,
      "outputs": [
        {
          "output_type": "stream",
          "name": "stdout",
          "text": [
            "           name  jersey\n",
            "0      MS DHoni       7\n",
            "1   Virat Kohli      18\n",
            "2  Rohit Sharma      45\n",
            "\n",
            "Replacing I with Y\n",
            "           name  jersey  first    last\n",
            "0      MS DHoni       7     MS   DHoni\n",
            "1   Virat Kohli      18  Virat   Kohli\n",
            "2  Rohit Sharma      45  Rohit  Sharma\n"
          ]
        }
      ]
    },
    {
      "cell_type": "markdown",
      "source": [
        "24. Write a Pandas program to extract email from a specified column of string\n",
        "type of a given DataFrame."
      ],
      "metadata": {
        "id": "lguIWf9F4Sm7"
      }
    },
    {
      "cell_type": "code",
      "source": [
        "import pandas as pd\n",
        "import re as re\n",
        "df = pd.DataFrame({'name_email': ['MS Dhoni ms@gmail.com', 'Virat Kohli', 'Rohit Sharma rohit@yahoo.com']})\n",
        "print(df)\n",
        "def find_email(text):\n",
        "    email = re.findall(r'[\\w\\.-]+@[\\w\\.-]+',str(text))\n",
        "    return \",\".join(email)\n",
        "df['email']=df['name_email'].apply(lambda x: find_email(x))\n",
        "print(\"\\Extracting email from dataframe columns:\")\n",
        "print(df)"
      ],
      "metadata": {
        "id": "CIIwILfu6Iza",
        "colab": {
          "base_uri": "https://localhost:8080/"
        },
        "outputId": "edd4695a-11f2-44d7-af65-1549103b6ae2"
      },
      "execution_count": null,
      "outputs": [
        {
          "output_type": "stream",
          "name": "stdout",
          "text": [
            "                     name_email\n",
            "0         MS Dhoni ms@gmail.com\n",
            "1                   Virat Kohli\n",
            "2  Rohit Sharma rohit@yahoo.com\n",
            "\\Extracting email from dataframe columns:\n",
            "                     name_email            email\n",
            "0         MS Dhoni ms@gmail.com     ms@gmail.com\n",
            "1                   Virat Kohli                 \n",
            "2  Rohit Sharma rohit@yahoo.com  rohit@yahoo.com\n"
          ]
        }
      ]
    },
    {
      "cell_type": "markdown",
      "source": [
        "25. Write a Pandas program to extract hash attached word from twitter text\n",
        "from the specified column of a given DataFrame."
      ],
      "metadata": {
        "id": "tgA0PA8P4VoG"
      }
    },
    {
      "cell_type": "code",
      "source": [
        "import pandas as pd\n",
        "import re as re\n",
        "df = pd.DataFrame({'tweets':['#thala for a reason','#king kohli','ro #hit man']})\n",
        "print(df)\n",
        "def find_hash(text):\n",
        "    hword=re.findall(r'(?<=#)\\w+',text)\n",
        "    return \" \".join(hword)\n",
        "df['hash_word']=df['tweets'].apply(lambda x: find_hash(x))\n",
        "print(\"\\Extracting#word from dataframe columns:\")\n",
        "print(df)"
      ],
      "metadata": {
        "id": "IFWjNtjx6IDz",
        "colab": {
          "base_uri": "https://localhost:8080/"
        },
        "outputId": "7a96e340-d188-4596-ea0f-5b805454e61c"
      },
      "execution_count": null,
      "outputs": [
        {
          "output_type": "stream",
          "name": "stdout",
          "text": [
            "                tweets\n",
            "0  #thala for a reason\n",
            "1          #king kohli\n",
            "2          ro #hit man\n",
            "\\Extracting#word from dataframe columns:\n",
            "                tweets hash_word\n",
            "0  #thala for a reason     thala\n",
            "1          #king kohli      king\n",
            "2          ro #hit man       hit\n"
          ]
        }
      ]
    },
    {
      "cell_type": "markdown",
      "source": [
        "**Pandas Join and Merge:**\n"
      ],
      "metadata": {
        "id": "MZr2HzAb4Ygs"
      }
    },
    {
      "cell_type": "markdown",
      "source": [
        "1. Write a Pandas program to join the two given dataframes along rows and\n",
        "assign all data."
      ],
      "metadata": {
        "id": "BN5xHOcA4g88"
      }
    },
    {
      "cell_type": "code",
      "source": [
        "import pandas as pd\n",
        "df1 = pd.DataFrame({'name': ['dhoni', 'virat', 'rohit'], 'jersey': [7, 18, 45]})\n",
        "print(df1)\n",
        "df2 = pd.DataFrame({'name': ['jadeja', 'devilliers', 'williamson'], 'jersey': [8, 17, 22]})\n",
        "print(df2)\n",
        "print(\"\\nJoining 2 DataFrames along rows\")\n",
        "joined_df = pd.concat([df1, df2])\n",
        "print(joined_df)"
      ],
      "metadata": {
        "id": "pf1YX7dB6HSw",
        "colab": {
          "base_uri": "https://localhost:8080/"
        },
        "outputId": "6fb03d4d-d1dd-46e3-c346-36df376dad32"
      },
      "execution_count": null,
      "outputs": [
        {
          "output_type": "stream",
          "name": "stdout",
          "text": [
            "    name  jersey\n",
            "0  dhoni       7\n",
            "1  virat      18\n",
            "2  rohit      45\n",
            "         name  jersey\n",
            "0      jadeja       8\n",
            "1  devilliers      17\n",
            "2  williamson      22\n",
            "\n",
            "Joining 2 DataFrames along rows\n",
            "         name  jersey\n",
            "0       dhoni       7\n",
            "1       virat      18\n",
            "2       rohit      45\n",
            "0      jadeja       8\n",
            "1  devilliers      17\n",
            "2  williamson      22\n"
          ]
        }
      ]
    },
    {
      "cell_type": "markdown",
      "source": [
        "2. Write a Pandas program to join the two given dataframes along columns\n",
        "and assign all data."
      ],
      "metadata": {
        "id": "psfknNUK4sSX"
      }
    },
    {
      "cell_type": "code",
      "source": [
        "import pandas as pd\n",
        "df1 = pd.DataFrame({'name': ['dhoni', 'virat', 'rohit'], 'jersey': [7, 18, 45]})\n",
        "print(df1)\n",
        "df2 = pd.DataFrame({'name': ['jadeja', 'devilliers', 'williamson'], 'jersey': [8, 17, 22]})\n",
        "print(df2)\n",
        "print(\"\\nJoining 2 DataFrames along rows\")\n",
        "joined_df = pd.concat([df1, df2], axis = 1)\n",
        "print(joined_df)"
      ],
      "metadata": {
        "id": "wJGSD_P56Gf-",
        "colab": {
          "base_uri": "https://localhost:8080/"
        },
        "outputId": "6285f406-2062-476c-fea1-accaa1269703"
      },
      "execution_count": null,
      "outputs": [
        {
          "output_type": "stream",
          "name": "stdout",
          "text": [
            "    name  jersey\n",
            "0  dhoni       7\n",
            "1  virat      18\n",
            "2  rohit      45\n",
            "         name  jersey\n",
            "0      jadeja       8\n",
            "1  devilliers      17\n",
            "2  williamson      22\n",
            "\n",
            "Joining 2 DataFrames along rows\n",
            "    name  jersey        name  jersey\n",
            "0  dhoni       7      jadeja       8\n",
            "1  virat      18  devilliers      17\n",
            "2  rohit      45  williamson      22\n"
          ]
        }
      ]
    },
    {
      "cell_type": "markdown",
      "source": [
        "3. Write a Pandas program to append rows to an existing DataFrame and\n",
        "display the combined data."
      ],
      "metadata": {
        "id": "rmsUAClU4u82"
      }
    },
    {
      "cell_type": "code",
      "source": [
        "import pandas as pd\n",
        "df = pd.DataFrame({'name': ['dhoni', 'virat', 'rohit'], 'jersey': [7, 18, 45]})\n",
        "print(df)\n",
        "S = pd.Series(['jadeja', 8], index = ['name', 'jersey'])\n",
        "print(\"\\nNew Row\")\n",
        "print(S)\n",
        "df1 = df.append(S, ignore_index = True)\n",
        "print(\"\\nCombined Data:\")\n",
        "print(df1)"
      ],
      "metadata": {
        "id": "Uept738W6Fz_",
        "colab": {
          "base_uri": "https://localhost:8080/"
        },
        "outputId": "407c75e4-3c87-4f49-8452-c0fbcabce4b2"
      },
      "execution_count": 2,
      "outputs": [
        {
          "output_type": "stream",
          "name": "stdout",
          "text": [
            "    name  jersey\n",
            "0  dhoni       7\n",
            "1  virat      18\n",
            "2  rohit      45\n",
            "\n",
            "New Row\n",
            "name      jadeja\n",
            "jersey         8\n",
            "dtype: object\n",
            "\n",
            "Combined Data:\n",
            "     name  jersey\n",
            "0   dhoni       7\n",
            "1   virat      18\n",
            "2   rohit      45\n",
            "3  jadeja       8\n"
          ]
        },
        {
          "output_type": "stream",
          "name": "stderr",
          "text": [
            "<ipython-input-2-6eca96583a60>:7: FutureWarning: The frame.append method is deprecated and will be removed from pandas in a future version. Use pandas.concat instead.\n",
            "  df1 = df.append(S, ignore_index = True)\n"
          ]
        }
      ]
    },
    {
      "cell_type": "markdown",
      "source": [
        "4. Write a Pandas program to append a list of dictioneries or series to a\n",
        "existing DataFrame and display the combined data."
      ],
      "metadata": {
        "id": "ZM2kdBK84xir"
      }
    },
    {
      "cell_type": "code",
      "source": [
        "import pandas as pd\n",
        "df = pd.DataFrame({'name': ['dhoni', 'virat', 'rohit'], 'jersey': [7, 18, 45]})\n",
        "print(df)\n",
        "dicts = [{'name': 'devilliers', 'jersey': 17}, {'name': 'williamson', 'jersey': 22}]\n",
        "print(\"\\nDictionary:\")\n",
        "print(dicts)\n",
        "df1 = df.append(dicts, ignore_index = True, sort = False)\n",
        "print(\"\\nCombined Data:\")\n",
        "print(df1)"
      ],
      "metadata": {
        "id": "bjLcLYJM6FEU",
        "colab": {
          "base_uri": "https://localhost:8080/"
        },
        "outputId": "8457e4da-3669-44f4-a862-82cf52a0d355"
      },
      "execution_count": 3,
      "outputs": [
        {
          "output_type": "stream",
          "name": "stdout",
          "text": [
            "    name  jersey\n",
            "0  dhoni       7\n",
            "1  virat      18\n",
            "2  rohit      45\n",
            "\n",
            "Dictionary:\n",
            "[{'name': 'devilliers', 'jersey': 17}, {'name': 'williamson', 'jersey': 22}]\n",
            "\n",
            "Combined Data:\n",
            "         name  jersey\n",
            "0       dhoni       7\n",
            "1       virat      18\n",
            "2       rohit      45\n",
            "3  devilliers      17\n",
            "4  williamson      22\n"
          ]
        },
        {
          "output_type": "stream",
          "name": "stderr",
          "text": [
            "<ipython-input-3-a27ba6ee3f12>:7: FutureWarning: The frame.append method is deprecated and will be removed from pandas in a future version. Use pandas.concat instead.\n",
            "  df1 = df.append(dicts, ignore_index = True, sort = False)\n"
          ]
        }
      ]
    },
    {
      "cell_type": "markdown",
      "source": [
        "5. Write a Pandas program to join the two given dataframes along rows and\n",
        "merge with another dataframe along the common column id."
      ],
      "metadata": {
        "id": "IYWxpnCl40SA"
      }
    },
    {
      "cell_type": "code",
      "source": [
        "import pandas as pd\n",
        "df1 = pd.DataFrame({'name': ['dhoni', 'virat', 'rohit'], 'jersey': [7, 18, 45]})\n",
        "print(df1)\n",
        "df2 = pd.DataFrame({'name': ['jadeja', 'devilliers', 'williamson'], 'jersey': [8, 17, 22]})\n",
        "print(df2)\n",
        "df3 = pd.DataFrame({'name': ['dhoni', 'virat', 'rohit', 'jadeja', 'devilliers', 'williamson'], 'team': ['CSK', 'RCB', 'MI', 'CSK', 'RCB', 'GT']})\n",
        "print(df3)\n",
        "print(\"\\nJoining 1st DF along rows\")\n",
        "DF = pd.concat([df1, df2])\n",
        "print(DF)\n",
        "print(\"\\nJoining DF & df3 along name\")\n",
        "final_data = pd.merge(DF, df3, on = 'name')\n",
        "print(final_data)"
      ],
      "metadata": {
        "id": "Q6JDR81L6EQB",
        "colab": {
          "base_uri": "https://localhost:8080/"
        },
        "outputId": "82a12e52-5c60-43fa-9d2e-c6d8343e780e"
      },
      "execution_count": 5,
      "outputs": [
        {
          "output_type": "stream",
          "name": "stdout",
          "text": [
            "    name  jersey\n",
            "0  dhoni       7\n",
            "1  virat      18\n",
            "2  rohit      45\n",
            "         name  jersey\n",
            "0      jadeja       8\n",
            "1  devilliers      17\n",
            "2  williamson      22\n",
            "         name team\n",
            "0       dhoni  CSK\n",
            "1       virat  RCB\n",
            "2       rohit   MI\n",
            "3      jadeja  CSK\n",
            "4  devilliers  RCB\n",
            "5  williamson   GT\n",
            "\n",
            "Joining 1st DF along rows\n",
            "         name  jersey\n",
            "0       dhoni       7\n",
            "1       virat      18\n",
            "2       rohit      45\n",
            "0      jadeja       8\n",
            "1  devilliers      17\n",
            "2  williamson      22\n",
            "\n",
            "Joining DF & df3 along name\n",
            "         name  jersey team\n",
            "0       dhoni       7  CSK\n",
            "1       virat      18  RCB\n",
            "2       rohit      45   MI\n",
            "3      jadeja       8  CSK\n",
            "4  devilliers      17  RCB\n",
            "5  williamson      22   GT\n"
          ]
        }
      ]
    },
    {
      "cell_type": "markdown",
      "source": [
        "**Pandas to handle missing values:**\n"
      ],
      "metadata": {
        "id": "6o8FsZ2U43cw"
      }
    },
    {
      "cell_type": "markdown",
      "source": [
        "1. Write a Pandas program to detect missing values of a given DataFrame.\n",
        "Display True or False."
      ],
      "metadata": {
        "id": "2mD8EQxV5CR1"
      }
    },
    {
      "cell_type": "code",
      "source": [
        "import pandas as pd\n",
        "import numpy as np\n",
        "df = pd.DataFrame({'name': ['dhoni', 'virat', 'rohit', np.nan, 'devilliers', 'williamson'], 'jersey': [7, 18, np.nan, 8, 17, np.nan ], 'team': ['CSK', 'RCB', 'MI', 'CSK', np.nan, np.nan]})\n",
        "print(df)\n",
        "print(\"\\nMissing values of the DataFrame\")\n",
        "print(df.isna())"
      ],
      "metadata": {
        "id": "SfR935JQ6B-f",
        "colab": {
          "base_uri": "https://localhost:8080/"
        },
        "outputId": "2747b4fc-8630-436b-a220-2aa443ec30a0"
      },
      "execution_count": 14,
      "outputs": [
        {
          "output_type": "stream",
          "name": "stdout",
          "text": [
            "         name  jersey team\n",
            "0       dhoni     7.0  CSK\n",
            "1       virat    18.0  RCB\n",
            "2       rohit     NaN   MI\n",
            "3         NaN     8.0  CSK\n",
            "4  devilliers    17.0  NaN\n",
            "5  williamson     NaN  NaN\n",
            "\n",
            "Missing values of the DataFrame\n",
            "    name  jersey   team\n",
            "0  False   False  False\n",
            "1  False   False  False\n",
            "2  False    True  False\n",
            "3   True   False  False\n",
            "4  False   False   True\n",
            "5  False    True   True\n"
          ]
        }
      ]
    },
    {
      "cell_type": "markdown",
      "source": [
        "2. Write a Pandas program to identify the column(s) of a given DataFrame\n",
        "which have at least one missing value."
      ],
      "metadata": {
        "id": "dGDSvhfj5Ek4"
      }
    },
    {
      "cell_type": "code",
      "source": [
        "import pandas as pd\n",
        "import numpy as np\n",
        "df = pd.DataFrame({'name': ['dhoni', 'virat', 'rohit', np.nan, 'devilliers', 'williamson'], 'jersey': [7, 18, np.nan, 8, 17, np.nan ], 'team': ['CSK', 'RCB', 'MI', 'CSK', np.nan, np.nan]})\n",
        "print(df)\n",
        "print(\"\\n Checking is there any any missing values of the DataFrame\")\n",
        "print(df.isna().any())"
      ],
      "metadata": {
        "id": "eb2IJHRH6BP4",
        "colab": {
          "base_uri": "https://localhost:8080/"
        },
        "outputId": "96c73b35-27d8-4ada-9074-2a4c453e53e2"
      },
      "execution_count": 17,
      "outputs": [
        {
          "output_type": "stream",
          "name": "stdout",
          "text": [
            "         name  jersey team\n",
            "0       dhoni     7.0  CSK\n",
            "1       virat    18.0  RCB\n",
            "2       rohit     NaN   MI\n",
            "3         NaN     8.0  CSK\n",
            "4  devilliers    17.0  NaN\n",
            "5  williamson     NaN  NaN\n",
            "\n",
            " Checking is there any any missing values of the DataFrame\n",
            "name      True\n",
            "jersey    True\n",
            "team      True\n",
            "dtype: bool\n"
          ]
        }
      ]
    },
    {
      "cell_type": "markdown",
      "source": [
        "3. Write a Pandas program to count the number of missing values in each\n",
        "column of a given DataFrame.\n"
      ],
      "metadata": {
        "id": "Kw2-1wi95Gwq"
      }
    },
    {
      "cell_type": "code",
      "source": [
        "import pandas as pd\n",
        "import numpy as np\n",
        "df = pd.DataFrame({'name': ['dhoni', 'virat', 'rohit', np.nan, 'devilliers', 'williamson'], 'jersey': [7, 18, np.nan, 8, 17, np.nan ], 'team': ['CSK', 'RCB', 'MI', 'CSK', np.nan, np.nan]})\n",
        "print(df)\n",
        "print(\"\\nCounting the no. of missing values of the DataFrame\")\n",
        "print(df.isna().sum())"
      ],
      "metadata": {
        "id": "yY5xknYJ6Afe",
        "colab": {
          "base_uri": "https://localhost:8080/"
        },
        "outputId": "fb6cbca9-d6e7-40a9-d39a-5c4bd1af0dfc"
      },
      "execution_count": 18,
      "outputs": [
        {
          "output_type": "stream",
          "name": "stdout",
          "text": [
            "         name  jersey team\n",
            "0       dhoni     7.0  CSK\n",
            "1       virat    18.0  RCB\n",
            "2       rohit     NaN   MI\n",
            "3         NaN     8.0  CSK\n",
            "4  devilliers    17.0  NaN\n",
            "5  williamson     NaN  NaN\n",
            "\n",
            "Counting the no. of missing values of the DataFrame\n",
            "name      1\n",
            "jersey    2\n",
            "team      2\n",
            "dtype: int64\n"
          ]
        }
      ]
    },
    {
      "cell_type": "markdown",
      "source": [
        "4. Write a Pandas program to find and replace the missing values in a given\n",
        "DataFrame which do not have any valuable information.\n"
      ],
      "metadata": {
        "id": "SYDzBxhv5JOW"
      }
    },
    {
      "cell_type": "code",
      "source": [
        "import pandas as pd\n",
        "import numpy as np\n",
        "df = pd.DataFrame({'name': ['dhoni', 'virat', 'rohit', '?', 'devilliers', 'williamson'], 'jersey': [7, 18, '--', 8, 17, '?' ], 'team': ['CSK', 'RCB', 'MI', 'CSK', '?', np.nan]})\n",
        "print(df)\n",
        "print(\"\\nReplacing the missing values of the DataFrame\")\n",
        "df1 = df.replace({\"?\": np.nan, \"--\": np.nan})\n",
        "print(df1)"
      ],
      "metadata": {
        "id": "sMh8mNfX5_O1",
        "colab": {
          "base_uri": "https://localhost:8080/"
        },
        "outputId": "61c7d562-58ad-4c65-a600-eb74a577e039"
      },
      "execution_count": 20,
      "outputs": [
        {
          "output_type": "stream",
          "name": "stdout",
          "text": [
            "         name jersey team\n",
            "0       dhoni      7  CSK\n",
            "1       virat     18  RCB\n",
            "2       rohit     --   MI\n",
            "3           ?      8  CSK\n",
            "4  devilliers     17    ?\n",
            "5  williamson      ?  NaN\n",
            "\n",
            "Replacing the missing values of the DataFrame\n",
            "         name  jersey team\n",
            "0       dhoni     7.0  CSK\n",
            "1       virat    18.0  RCB\n",
            "2       rohit     NaN   MI\n",
            "3         NaN     8.0  CSK\n",
            "4  devilliers    17.0  NaN\n",
            "5  williamson     NaN  NaN\n"
          ]
        }
      ]
    },
    {
      "cell_type": "markdown",
      "source": [
        "5. Write a Pandas program to drop the rows where at least one element is\n",
        "missing in a given DataFrame.\n"
      ],
      "metadata": {
        "id": "iLGaDGu55NHK"
      }
    },
    {
      "cell_type": "code",
      "source": [
        "import pandas as pd\n",
        "import numpy as np\n",
        "df = pd.DataFrame({'name': ['dhoni', 'virat', 'rohit', np.nan, 'devilliers', 'williamson'], 'jersey': [7, 18, np.nan, 8, 17, np.nan ], 'team': ['CSK', 'RCB', 'MI', 'CSK', np.nan, np.nan]})\n",
        "print(df)\n",
        "print(\"\\nDrop the rows where at least one element is missing in a given DataFrame.\")\n",
        "df1 = df.dropna()\n",
        "print(df1)"
      ],
      "metadata": {
        "id": "lhsBEegM5-bY",
        "colab": {
          "base_uri": "https://localhost:8080/"
        },
        "outputId": "c11316a0-43a4-4c4c-be88-667dc49deb3f"
      },
      "execution_count": 22,
      "outputs": [
        {
          "output_type": "stream",
          "name": "stdout",
          "text": [
            "         name  jersey team\n",
            "0       dhoni     7.0  CSK\n",
            "1       virat    18.0  RCB\n",
            "2       rohit     NaN   MI\n",
            "3         NaN     8.0  CSK\n",
            "4  devilliers    17.0  NaN\n",
            "5  williamson     NaN  NaN\n",
            "\n",
            "Drop the rows where at least one element is missing in a given DataFrame.\n",
            "    name  jersey team\n",
            "0  dhoni     7.0  CSK\n",
            "1  virat    18.0  RCB\n"
          ]
        }
      ]
    },
    {
      "cell_type": "markdown",
      "source": [
        "6. Write a Pandas program to drop the columns where at least one element is\n",
        "missing in a given DataFrame.\n"
      ],
      "metadata": {
        "id": "uzowA8um5Pte"
      }
    },
    {
      "cell_type": "code",
      "source": [
        "import pandas as pd\n",
        "import numpy as np\n",
        "df = pd.DataFrame({'name': ['dhoni', 'virat', 'rohit', np.nan, 'devilliers', 'williamson'], 'jersey': [7, 18, np.nan, 8, 17, np.nan ], 'team': ['CSK', 'RCB', 'MI', 'CSK', np.nan, np.nan]})\n",
        "print(df)\n",
        "print(\"\\nDrop the colums where at least one element is missing in a given DataFrame.\")\n",
        "df1 = df.dropna(axis = 'columns')\n",
        "print(df1)"
      ],
      "metadata": {
        "id": "vDTanOWz59wb",
        "colab": {
          "base_uri": "https://localhost:8080/"
        },
        "outputId": "49e8aa7e-d690-4928-f3f7-88ea7b386f91"
      },
      "execution_count": 25,
      "outputs": [
        {
          "output_type": "stream",
          "name": "stdout",
          "text": [
            "         name  jersey team\n",
            "0       dhoni     7.0  CSK\n",
            "1       virat    18.0  RCB\n",
            "2       rohit     NaN   MI\n",
            "3         NaN     8.0  CSK\n",
            "4  devilliers    17.0  NaN\n",
            "5  williamson     NaN  NaN\n",
            "\n",
            "Drop the colums where at least one element is missing in a given DataFrame.\n",
            "Empty DataFrame\n",
            "Columns: []\n",
            "Index: [0, 1, 2, 3, 4, 5]\n"
          ]
        }
      ]
    },
    {
      "cell_type": "markdown",
      "source": [
        "7. Write a Pandas program to drop the rows where all elements are missing in\n",
        "a given DataFrame."
      ],
      "metadata": {
        "id": "yzSSyftG5UsF"
      }
    },
    {
      "cell_type": "code",
      "source": [
        "import pandas as pd\n",
        "import numpy as np\n",
        "df = pd.DataFrame({'name': ['dhoni', 'virat', 'rohit', np.nan, 'devilliers', 'williamson'], 'jersey': [7, 18, np.nan, 8, 17, np.nan ], 'team': ['CSK', 'RCB', 'MI', 'CSK', np.nan, np.nan]})\n",
        "print(df)\n",
        "print(\"\\nDrop the rows where all element is missing in a given DataFrame.\")\n",
        "df1 = df.dropna(how = 'all')\n",
        "print(df1)"
      ],
      "metadata": {
        "id": "YCyPXoKX589v",
        "colab": {
          "base_uri": "https://localhost:8080/"
        },
        "outputId": "7c15d69e-6f5f-4c22-dd33-8f85b1c62c76"
      },
      "execution_count": 26,
      "outputs": [
        {
          "output_type": "stream",
          "name": "stdout",
          "text": [
            "         name  jersey team\n",
            "0       dhoni     7.0  CSK\n",
            "1       virat    18.0  RCB\n",
            "2       rohit     NaN   MI\n",
            "3         NaN     8.0  CSK\n",
            "4  devilliers    17.0  NaN\n",
            "5  williamson     NaN  NaN\n",
            "\n",
            "Drop the rows where all element is missing in a given DataFrame.\n",
            "         name  jersey team\n",
            "0       dhoni     7.0  CSK\n",
            "1       virat    18.0  RCB\n",
            "2       rohit     NaN   MI\n",
            "3         NaN     8.0  CSK\n",
            "4  devilliers    17.0  NaN\n",
            "5  williamson     NaN  NaN\n"
          ]
        }
      ]
    },
    {
      "cell_type": "markdown",
      "source": [
        "8. Write a Pandas program to keep the rows with at least 2 NaN values in a\n",
        "given DataFrame."
      ],
      "metadata": {
        "id": "9iit1q0Y5W3e"
      }
    },
    {
      "cell_type": "code",
      "source": [
        "import pandas as pd\n",
        "import numpy as np\n",
        "df = pd.DataFrame({'name': ['dhoni', 'virat', 'rohit', np.nan, 'devilliers', 'williamson'], 'jersey': [7, 18, np.nan, 8, 17, np.nan ], 'team': ['CSK', 'RCB', 'MI', 'CSK', np.nan, np.nan]})\n",
        "print(df)\n",
        "print(\"\\nKeep the rows with at least 2 NaN values in a given DataFrame.\")\n",
        "df1 = df.dropna(thresh = 2)\n",
        "print(df1)"
      ],
      "metadata": {
        "id": "W4kr9cfp565L",
        "colab": {
          "base_uri": "https://localhost:8080/"
        },
        "outputId": "e7b6a70d-5fba-4325-f22e-9da5fbd6cbbe"
      },
      "execution_count": 34,
      "outputs": [
        {
          "output_type": "stream",
          "name": "stdout",
          "text": [
            "         name  jersey team\n",
            "0       dhoni     7.0  CSK\n",
            "1       virat    18.0  RCB\n",
            "2       rohit     NaN   MI\n",
            "3         NaN     8.0  CSK\n",
            "4  devilliers    17.0  NaN\n",
            "5  williamson     NaN  NaN\n",
            "\n",
            "Keep the rows with at least 2 NaN values in a given DataFrame.\n",
            "         name  jersey team\n",
            "0       dhoni     7.0  CSK\n",
            "1       virat    18.0  RCB\n",
            "2       rohit     NaN   MI\n",
            "3         NaN     8.0  CSK\n",
            "4  devilliers    17.0  NaN\n"
          ]
        }
      ]
    },
    {
      "cell_type": "markdown",
      "source": [
        "9. Write a Pandas program to drop those rows from a given DataFrame in\n",
        "which specific columns have missing values."
      ],
      "metadata": {
        "id": "sQn0N6oL5ZO8"
      }
    },
    {
      "cell_type": "code",
      "source": [
        "import pandas as pd\n",
        "import numpy as np\n",
        "df = pd.DataFrame({'name': ['dhoni', 'virat', 'rohit', np.nan, 'devilliers', 'williamson'], 'jersey': [7, 18, np.nan, 8, 17, np.nan ], 'team': ['CSK', 'RCB', 'MI', 'CSK', np.nan, np.nan]})\n",
        "print(df)\n",
        "print(\"\\nDrop those rows from a given DataFrame in which specific columns have missing values.\")\n",
        "df1 = df.dropna(subset = ['name', 'jersey'])\n",
        "print(df1)"
      ],
      "metadata": {
        "id": "lakGD18u55nY",
        "colab": {
          "base_uri": "https://localhost:8080/"
        },
        "outputId": "0740af5e-c644-466a-836c-3b9dfc4288c9"
      },
      "execution_count": 33,
      "outputs": [
        {
          "output_type": "stream",
          "name": "stdout",
          "text": [
            "         name  jersey team\n",
            "0       dhoni     7.0  CSK\n",
            "1       virat    18.0  RCB\n",
            "2       rohit     NaN   MI\n",
            "3         NaN     8.0  CSK\n",
            "4  devilliers    17.0  NaN\n",
            "5  williamson     NaN  NaN\n",
            "\n",
            "Drop those rows from a given DataFrame in which specific columns have missing values.\n",
            "         name  jersey team\n",
            "0       dhoni     7.0  CSK\n",
            "1       virat    18.0  RCB\n",
            "4  devilliers    17.0  NaN\n"
          ]
        }
      ]
    },
    {
      "cell_type": "markdown",
      "source": [
        "10. Write a Pandas program to calculate the total number of missing values in\n",
        "a DataFrame."
      ],
      "metadata": {
        "id": "rQ7REec15cDF"
      }
    },
    {
      "cell_type": "code",
      "source": [
        "import pandas as pd\n",
        "import numpy as np\n",
        "df = pd.DataFrame({'name': ['dhoni', 'virat', 'rohit', np.nan, 'devilliers', 'williamson'], 'jersey': [7, 18, np.nan, 8, 17, np.nan ], 'team': ['CSK', 'RCB', 'MI', 'CSK', np.nan, np.nan]})\n",
        "print(df)\n",
        "print(\"\\nCalculate the total number of missing values in a DataFrame.\")\n",
        "df1 = df.isna().sum().sum()\n",
        "print(df1)"
      ],
      "metadata": {
        "id": "-eIQEqbD55Al",
        "colab": {
          "base_uri": "https://localhost:8080/"
        },
        "outputId": "56101bc9-66fd-4a8d-ab6e-a8802aa96377"
      },
      "execution_count": 32,
      "outputs": [
        {
          "output_type": "stream",
          "name": "stdout",
          "text": [
            "         name  jersey team\n",
            "0       dhoni     7.0  CSK\n",
            "1       virat    18.0  RCB\n",
            "2       rohit     NaN   MI\n",
            "3         NaN     8.0  CSK\n",
            "4  devilliers    17.0  NaN\n",
            "5  williamson     NaN  NaN\n",
            "\n",
            "Calculate the total number of missing values in a DataFrame.\n",
            "5\n"
          ]
        }
      ]
    },
    {
      "cell_type": "markdown",
      "source": [
        "11. Write a Pandas program to replace NaNs with median or mean of the\n",
        "specified columns in a given DataFrame.\n"
      ],
      "metadata": {
        "id": "WhVm7Kmv5fE0"
      }
    },
    {
      "cell_type": "code",
      "source": [
        "import pandas as pd\n",
        "import numpy as np\n",
        "df = pd.DataFrame({'name': ['dhoni', 'virat', 'rohit', 'jadeja', 'devilliers', 'williamson'], 'jersey': [7, 18, np.nan, 8, 17, np.nan ], 'team': ['CSK', 'RCB', 'MI', 'CSK', 'RCB', 'GT']})\n",
        "print(df)\n",
        "print(\"\\nReplacing Nans using median\")\n",
        "df['jersey'].fillna(df['jersey'].median(), inplace = True)\n",
        "print(df)\n",
        "print(\"\\nReplacing Nans using median\")\n",
        "df['jersey'].fillna(df['jersey'].median(), inplace = True)\n",
        "print(df)"
      ],
      "metadata": {
        "id": "mJWTQWi654TC",
        "colab": {
          "base_uri": "https://localhost:8080/"
        },
        "outputId": "d6a978cf-04bd-4aa1-d403-34fe2a0abd1b"
      },
      "execution_count": 35,
      "outputs": [
        {
          "output_type": "stream",
          "name": "stdout",
          "text": [
            "         name  jersey team\n",
            "0       dhoni     7.0  CSK\n",
            "1       virat    18.0  RCB\n",
            "2       rohit     NaN   MI\n",
            "3      jadeja     8.0  CSK\n",
            "4  devilliers    17.0  RCB\n",
            "5  williamson     NaN   GT\n",
            "\n",
            "Replacing Nans using median\n",
            "         name  jersey team\n",
            "0       dhoni     7.0  CSK\n",
            "1       virat    18.0  RCB\n",
            "2       rohit    12.5   MI\n",
            "3      jadeja     8.0  CSK\n",
            "4  devilliers    17.0  RCB\n",
            "5  williamson    12.5   GT\n",
            "\n",
            "Replacing Nans using median\n",
            "         name  jersey team\n",
            "0       dhoni     7.0  CSK\n",
            "1       virat    18.0  RCB\n",
            "2       rohit    12.5   MI\n",
            "3      jadeja     8.0  CSK\n",
            "4  devilliers    17.0  RCB\n",
            "5  williamson    12.5   GT\n"
          ]
        }
      ]
    },
    {
      "cell_type": "markdown",
      "source": [
        "12. Write a Pandas program to count the number of missing values of a\n",
        "specified column in a given DataFrame.\n"
      ],
      "metadata": {
        "id": "g3ADcQzH5gav"
      }
    },
    {
      "cell_type": "code",
      "source": [
        "import pandas as pd\n",
        "import numpy as np\n",
        "df = pd.DataFrame({'name': ['dhoni', 'virat', 'rohit', np.nan, 'devilliers', 'williamson'], 'jersey': [7, 18, np.nan, 8, 17, np.nan ], 'team': ['CSK', 'RCB', 'MI', 'CSK', np.nan, np.nan]})\n",
        "print(df)\n",
        "print(\"\\nCounting the no. of missing values of the specified column in the DataFrame\")\n",
        "print(df.isna().sum())"
      ],
      "metadata": {
        "id": "Tpjv4jIo53Ec",
        "colab": {
          "base_uri": "https://localhost:8080/"
        },
        "outputId": "6931ca77-d5bc-45f9-b155-879061cfe769"
      },
      "execution_count": 40,
      "outputs": [
        {
          "output_type": "stream",
          "name": "stdout",
          "text": [
            "         name  jersey team\n",
            "0       dhoni     7.0  CSK\n",
            "1       virat    18.0  RCB\n",
            "2       rohit     NaN   MI\n",
            "3         NaN     8.0  CSK\n",
            "4  devilliers    17.0  NaN\n",
            "5  williamson     NaN  NaN\n",
            "\n",
            "Counting the no. of missing values of the specified column in the DataFrame\n",
            "name      1\n",
            "jersey    2\n",
            "team      2\n",
            "dtype: int64\n"
          ]
        }
      ]
    },
    {
      "cell_type": "markdown",
      "source": [
        "13. Write a Pandas program to count the missing values in a given\n",
        "DataFrame.\n"
      ],
      "metadata": {
        "id": "iiE7MOcX5om3"
      }
    },
    {
      "cell_type": "code",
      "source": [
        "import pandas as pd\n",
        "import numpy as np\n",
        "df = pd.DataFrame({'name': ['dhoni', 'virat', 'rohit', np.nan, 'devilliers', 'williamson'], 'jersey': [7, 18, np.nan, 8, 17, np.nan ], 'team': ['CSK', 'RCB', 'MI', 'CSK', np.nan, np.nan]})\n",
        "print(df)\n",
        "print(\"\\nCounting the no. of missing values of the DataFrame\")\n",
        "df1 = df.isnull().sum().sum()\n",
        "print(df1)"
      ],
      "metadata": {
        "id": "nqD4jCwi52MJ",
        "colab": {
          "base_uri": "https://localhost:8080/"
        },
        "outputId": "fa332362-480b-4d82-afcc-49b0d8cf4320"
      },
      "execution_count": 37,
      "outputs": [
        {
          "output_type": "stream",
          "name": "stdout",
          "text": [
            "         name  jersey team\n",
            "0       dhoni     7.0  CSK\n",
            "1       virat    18.0  RCB\n",
            "2       rohit     NaN   MI\n",
            "3         NaN     8.0  CSK\n",
            "4  devilliers    17.0  NaN\n",
            "5  williamson     NaN  NaN\n",
            "\n",
            "Counting the no. of missing values of the DataFrame\n",
            "5\n"
          ]
        }
      ]
    },
    {
      "cell_type": "markdown",
      "source": [
        "14. Write a Pandas program to find the Indexes of missing values in a given\n",
        "DataFrame."
      ],
      "metadata": {
        "id": "DrryaDMU5rDq"
      }
    },
    {
      "cell_type": "code",
      "source": [
        "import pandas as pd\n",
        "import numpy as np\n",
        "df = pd.DataFrame({'name': ['dhoni', 'virat', 'rohit', np.nan, 'devilliers', 'williamson'], 'jersey': [7, 18, np.nan, 8, 17, np.nan ], 'team': ['CSK', 'RCB', 'MI', 'CSK', np.nan, np.nan]})\n",
        "print(df)\n",
        "df1 = df['jersey'].isnull().to_numpy().nonzero()\n",
        "print(df1)"
      ],
      "metadata": {
        "id": "tmGLWAJI51YW",
        "colab": {
          "base_uri": "https://localhost:8080/"
        },
        "outputId": "b9b37ccc-3e5c-4bed-ee98-15e16954ff64"
      },
      "execution_count": 38,
      "outputs": [
        {
          "output_type": "stream",
          "name": "stdout",
          "text": [
            "         name  jersey team\n",
            "0       dhoni     7.0  CSK\n",
            "1       virat    18.0  RCB\n",
            "2       rohit     NaN   MI\n",
            "3         NaN     8.0  CSK\n",
            "4  devilliers    17.0  NaN\n",
            "5  williamson     NaN  NaN\n",
            "(array([2, 5]),)\n"
          ]
        }
      ]
    },
    {
      "cell_type": "markdown",
      "source": [
        "15. Write a Pandas program to replace NaNs with a single constant value in\n",
        "specified columns in a DataFrame."
      ],
      "metadata": {
        "id": "YgkEkWSR5t9s"
      }
    },
    {
      "cell_type": "code",
      "source": [
        "import pandas as pd\n",
        "import numpy as np\n",
        "df = pd.DataFrame({'name': ['dhoni', 'virat', 'rohit', np.nan, 'devilliers', 'williamson'], 'jersey': [7, 18, np.nan, 8, 17, np.nan ], 'team': ['CSK', 'RCB', 'MI', 'CSK', np.nan, np.nan]})\n",
        "print(df)\n",
        "df1 = df['jersey'].fillna(0, inplace = False)\n",
        "print(df1)"
      ],
      "metadata": {
        "id": "5uXPQr705zyW",
        "colab": {
          "base_uri": "https://localhost:8080/"
        },
        "outputId": "57c2c8db-6801-45b0-c853-41aa141609c1"
      },
      "execution_count": 39,
      "outputs": [
        {
          "output_type": "stream",
          "name": "stdout",
          "text": [
            "         name  jersey team\n",
            "0       dhoni     7.0  CSK\n",
            "1       virat    18.0  RCB\n",
            "2       rohit     NaN   MI\n",
            "3         NaN     8.0  CSK\n",
            "4  devilliers    17.0  NaN\n",
            "5  williamson     NaN  NaN\n",
            "0     7.0\n",
            "1    18.0\n",
            "2     0.0\n",
            "3     8.0\n",
            "4    17.0\n",
            "5     0.0\n",
            "Name: jersey, dtype: float64\n"
          ]
        }
      ]
    }
  ]
}